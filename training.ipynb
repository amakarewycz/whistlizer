{
 "cells": [
  {
   "cell_type": "markdown",
   "id": "c84f48cd-166f-47bb-bce6-a8663e9fbac5",
   "metadata": {},
   "source": [
    "# Training and Inference \n",
    "\n",
    "## Training\n",
    "\n",
    "### Training Set\n",
    "\n",
    "you'll need to provide 1 or more training sub sets.  Each subset comes from feature extraction from a single video file.\n",
    "\n",
    "running this notebook will create a model file starting with prefix model_ffn_{date_timestamp}.\n",
    "\n",
    "### Predictions\n",
    "\n",
    "Select the  [Inference](#Inference) Cell."
   ]
  },
  {
   "cell_type": "code",
   "execution_count": 77,
   "id": "7117dfb9-5357-419e-8c74-b2c97a509f81",
   "metadata": {},
   "outputs": [],
   "source": [
    "\n",
    "# Inputs\n",
    "training_sub_set_1 = \"training_set_1.npy\"\n",
    "\n",
    "video = \"/Volumes/Stuff/youtube-dl-2/GH020192 [wj1Vc2QSdfI].webm\"\n",
    "name = video.split(\".\")\n",
    "training_sub_set_2 = name[0]+\"_training_set_1.npy\"\n",
    "\n",
    "train_validation_split = 0.8\n",
    "\n",
    "# Outputs (suffix generated based on datetimestamp)\n",
    "\n",
    "model_file_prefix = \"model_ffn_\"\n"
   ]
  },
  {
   "cell_type": "code",
   "execution_count": 77,
   "id": "7bc9d75f-58bb-4223-be92-d371ce70c120",
   "metadata": {},
   "outputs": [],
   "source": [
    "import numpy as np\n",
    "from keras.models import Sequential\n",
    "from keras.layers import Dense"
   ]
  },
  {
   "cell_type": "markdown",
   "id": "2f961255-40a1-4d0e-91b5-9047f3870a29",
   "metadata": {},
   "source": [
    "## Create Training Set from Sub Sets"
   ]
  },
  {
   "cell_type": "code",
   "execution_count": 78,
   "id": "293274c5-a65e-464c-b81a-90d046ab4f83",
   "metadata": {},
   "outputs": [],
   "source": [
    "train= np.load(training_set)\n",
    "\n",
    "train2= np.load(training_sub_set_2)\n",
    "\n",
    "train = np.vstack((train,train2))"
   ]
  },
  {
   "cell_type": "code",
   "execution_count": 330,
   "id": "9df8e218-981f-4899-8d4e-4313ecf09724",
   "metadata": {},
   "outputs": [
    {
     "data": {
      "text/plain": [
       "(3085, 49)"
      ]
     },
     "execution_count": 330,
     "metadata": {},
     "output_type": "execute_result"
    }
   ],
   "source": [
    "np.shape(train)"
   ]
  },
  {
   "cell_type": "markdown",
   "id": "1af051d4-0f93-406c-8c87-e99057a65750",
   "metadata": {},
   "source": [
    "## Split out a Validation Set"
   ]
  },
  {
   "cell_type": "code",
   "execution_count": 331,
   "id": "5d69a91e-9e75-49aa-b037-1d5a6a1558bc",
   "metadata": {},
   "outputs": [],
   "source": [
    "from numpy.random import default_rng\n",
    "\n",
    "examples = len(train)\n",
    "\n",
    "rng = default_rng()\n",
    "rng.shuffle(train)\n",
    "\n",
    "training_examples = math.floor(train_validation_split * examples)\n",
    "validation_examples = examples - training_examples\n",
    "validation = train[-validation_examples:]\n",
    "training = train[:training_examples]"
   ]
  },
  {
   "cell_type": "code",
   "execution_count": 332,
   "id": "a94714da-4c9b-4d74-99c4-29ff14ff3881",
   "metadata": {},
   "outputs": [
    {
     "data": {
      "text/plain": [
       "(2468, 49)"
      ]
     },
     "execution_count": 332,
     "metadata": {},
     "output_type": "execute_result"
    }
   ],
   "source": [
    "np.shape(training-1)"
   ]
  },
  {
   "cell_type": "code",
   "execution_count": 333,
   "id": "fa4b7921-a6de-4003-8dc9-f42052df923f",
   "metadata": {},
   "outputs": [
    {
     "data": {
      "text/plain": [
       "(617, 49)"
      ]
     },
     "execution_count": 333,
     "metadata": {},
     "output_type": "execute_result"
    }
   ],
   "source": [
    "np.shape(validation)"
   ]
  },
  {
   "cell_type": "code",
   "execution_count": null,
   "id": "0c804053-07a0-4ef5-85e1-7b4f588bc99b",
   "metadata": {},
   "outputs": [],
   "source": []
  },
  {
   "cell_type": "code",
   "execution_count": 377,
   "id": "80292c10-ace1-48c4-b057-c7dcca87a407",
   "metadata": {},
   "outputs": [],
   "source": [
    "def split(examples):\n",
    "    tmp = np.hsplit(examples,np.array([len(examples-1),len(examples)]))\n",
    "    X = tmp[0]\n",
    "    y = tmp[1]\n",
    "\n",
    "   # y = y-1\n",
    "   # y = -y\n",
    "    return X,y"
   ]
  },
  {
   "cell_type": "code",
   "execution_count": 335,
   "id": "231616da-c71f-4fef-8a2c-c8d1bd71a713",
   "metadata": {},
   "outputs": [],
   "source": [
    "X_train,y_train = split(training)"
   ]
  },
  {
   "cell_type": "code",
   "execution_count": 336,
   "id": "46b00801-1d66-40ce-b925-1ef41a659df4",
   "metadata": {},
   "outputs": [
    {
     "name": "stdout",
     "output_type": "stream",
     "text": [
      "2468\n",
      "124.0\n"
     ]
    }
   ],
   "source": [
    "print(len(y_train))\n",
    "print(np.sum(y_train))"
   ]
  },
  {
   "cell_type": "code",
   "execution_count": 337,
   "id": "2810bf4a-2193-4e9e-b3b7-8fe60c41fcbb",
   "metadata": {},
   "outputs": [],
   "source": [
    "X_val, y_val  = split(validation)"
   ]
  },
  {
   "cell_type": "code",
   "execution_count": 338,
   "id": "b4796d8c-f1f1-46f0-83c6-3b69b9472bb0",
   "metadata": {},
   "outputs": [
    {
     "name": "stdout",
     "output_type": "stream",
     "text": [
      "617\n",
      "42.0\n"
     ]
    }
   ],
   "source": [
    "print(len(y_val))\n",
    "print(np.sum(y_val))"
   ]
  },
  {
   "cell_type": "markdown",
   "id": "27c6023a-acbd-4960-b661-cb65e4f6a635",
   "metadata": {},
   "source": [
    "## Define Model"
   ]
  },
  {
   "cell_type": "code",
   "execution_count": 339,
   "id": "c42fec85-e0c8-4490-ab6c-e1db5320440b",
   "metadata": {},
   "outputs": [],
   "source": [
    "model = Sequential()\n",
    "\n",
    "model.add(Dense(10, input_dim=48, activation='relu'))\n",
    "\n",
    "model.add(Dense(8, activation='relu'))\n",
    "\n",
    "model.add(Dense(1, activation='sigmoid'))\n"
   ]
  },
  {
   "cell_type": "code",
   "execution_count": 340,
   "id": "dad8708f-5247-4f3e-b65d-f9a0bf26406a",
   "metadata": {},
   "outputs": [],
   "source": [
    "# compile the keras model\n",
    "model.compile(loss='binary_crossentropy', \n",
    "              optimizer='adam', \n",
    "              metrics=['accuracy','AUC']\n",
    "             )"
   ]
  },
  {
   "cell_type": "markdown",
   "id": "ba9e26ab-ec5f-4d58-9ce1-a1cd0a5ee656",
   "metadata": {},
   "source": [
    "## Train"
   ]
  },
  {
   "cell_type": "code",
   "execution_count": 360,
   "id": "b8f1c0e3-19b9-455e-b722-769ff3294cad",
   "metadata": {},
   "outputs": [
    {
     "name": "stdout",
     "output_type": "stream",
     "text": [
      "Epoch 1/350\n",
      "247/247 [==============================] - 0s 2ms/step - loss: 0.0955 - accuracy: 0.9664 - auc: 0.9466 - val_loss: 0.4513 - val_accuracy: 0.9173 - val_auc: 0.5710\n",
      "Epoch 2/350\n",
      "247/247 [==============================] - 0s 2ms/step - loss: 0.0925 - accuracy: 0.9712 - auc: 0.9492 - val_loss: 0.5157 - val_accuracy: 0.9335 - val_auc: 0.5659\n",
      "Epoch 3/350\n",
      "247/247 [==============================] - 0s 2ms/step - loss: 0.0928 - accuracy: 0.9712 - auc: 0.9467 - val_loss: 0.4964 - val_accuracy: 0.9335 - val_auc: 0.5677\n",
      "Epoch 4/350\n",
      "247/247 [==============================] - 0s 2ms/step - loss: 0.0914 - accuracy: 0.9700 - auc: 0.9496 - val_loss: 0.4929 - val_accuracy: 0.9287 - val_auc: 0.5588\n",
      "Epoch 5/350\n",
      "247/247 [==============================] - 0s 2ms/step - loss: 0.0912 - accuracy: 0.9700 - auc: 0.9493 - val_loss: 0.5116 - val_accuracy: 0.9271 - val_auc: 0.5551\n",
      "Epoch 6/350\n",
      "247/247 [==============================] - 0s 2ms/step - loss: 0.0884 - accuracy: 0.9708 - auc: 0.9557 - val_loss: 0.4985 - val_accuracy: 0.9287 - val_auc: 0.5673\n",
      "Epoch 7/350\n",
      "247/247 [==============================] - 0s 2ms/step - loss: 0.0892 - accuracy: 0.9712 - auc: 0.9536 - val_loss: 0.5165 - val_accuracy: 0.9319 - val_auc: 0.5678\n",
      "Epoch 8/350\n",
      "247/247 [==============================] - 0s 2ms/step - loss: 0.0900 - accuracy: 0.9712 - auc: 0.9524 - val_loss: 0.4627 - val_accuracy: 0.9271 - val_auc: 0.5675\n",
      "Epoch 9/350\n",
      "247/247 [==============================] - 0s 2ms/step - loss: 0.0904 - accuracy: 0.9708 - auc: 0.9541 - val_loss: 0.4920 - val_accuracy: 0.9287 - val_auc: 0.5517\n",
      "Epoch 10/350\n",
      "247/247 [==============================] - 0s 2ms/step - loss: 0.0908 - accuracy: 0.9708 - auc: 0.9509 - val_loss: 0.5078 - val_accuracy: 0.9222 - val_auc: 0.5673\n",
      "Epoch 11/350\n",
      "247/247 [==============================] - 0s 2ms/step - loss: 0.0931 - accuracy: 0.9712 - auc: 0.9489 - val_loss: 0.4931 - val_accuracy: 0.9190 - val_auc: 0.5625\n",
      "Epoch 12/350\n",
      "247/247 [==============================] - 0s 2ms/step - loss: 0.0900 - accuracy: 0.9724 - auc: 0.9484 - val_loss: 0.5509 - val_accuracy: 0.9287 - val_auc: 0.5411\n",
      "Epoch 13/350\n",
      "247/247 [==============================] - 0s 2ms/step - loss: 0.0860 - accuracy: 0.9720 - auc: 0.9539 - val_loss: 0.5221 - val_accuracy: 0.9303 - val_auc: 0.5757\n",
      "Epoch 14/350\n",
      "247/247 [==============================] - 0s 2ms/step - loss: 0.0877 - accuracy: 0.9712 - auc: 0.9530 - val_loss: 0.5172 - val_accuracy: 0.9303 - val_auc: 0.5737\n",
      "Epoch 15/350\n",
      "247/247 [==============================] - 0s 2ms/step - loss: 0.0868 - accuracy: 0.9704 - auc: 0.9546 - val_loss: 0.4914 - val_accuracy: 0.9238 - val_auc: 0.5622\n",
      "Epoch 16/350\n",
      "247/247 [==============================] - 0s 2ms/step - loss: 0.0871 - accuracy: 0.9708 - auc: 0.9548 - val_loss: 0.5168 - val_accuracy: 0.9303 - val_auc: 0.5587\n",
      "Epoch 17/350\n",
      "247/247 [==============================] - 0s 2ms/step - loss: 0.0880 - accuracy: 0.9720 - auc: 0.9539 - val_loss: 0.5339 - val_accuracy: 0.9271 - val_auc: 0.5481\n",
      "Epoch 18/350\n",
      "247/247 [==============================] - 0s 2ms/step - loss: 0.0852 - accuracy: 0.9724 - auc: 0.9573 - val_loss: 0.5460 - val_accuracy: 0.9222 - val_auc: 0.5495\n",
      "Epoch 19/350\n",
      "247/247 [==============================] - 0s 2ms/step - loss: 0.0862 - accuracy: 0.9720 - auc: 0.9559 - val_loss: 0.5150 - val_accuracy: 0.9190 - val_auc: 0.5495\n",
      "Epoch 20/350\n",
      "247/247 [==============================] - 0s 2ms/step - loss: 0.0845 - accuracy: 0.9724 - auc: 0.9582 - val_loss: 0.5513 - val_accuracy: 0.9254 - val_auc: 0.5341\n",
      "Epoch 21/350\n",
      "247/247 [==============================] - 0s 2ms/step - loss: 0.0881 - accuracy: 0.9704 - auc: 0.9574 - val_loss: 0.5331 - val_accuracy: 0.9303 - val_auc: 0.5798\n",
      "Epoch 22/350\n",
      "247/247 [==============================] - 0s 2ms/step - loss: 0.0867 - accuracy: 0.9704 - auc: 0.9581 - val_loss: 0.5518 - val_accuracy: 0.9287 - val_auc: 0.5664\n",
      "Epoch 23/350\n",
      "247/247 [==============================] - 0s 2ms/step - loss: 0.0937 - accuracy: 0.9684 - auc: 0.9506 - val_loss: 0.5161 - val_accuracy: 0.9254 - val_auc: 0.5563\n",
      "Epoch 24/350\n",
      "247/247 [==============================] - 0s 2ms/step - loss: 0.0854 - accuracy: 0.9733 - auc: 0.9561 - val_loss: 0.5555 - val_accuracy: 0.9287 - val_auc: 0.5624\n",
      "Epoch 25/350\n",
      "247/247 [==============================] - 0s 2ms/step - loss: 0.0813 - accuracy: 0.9733 - auc: 0.9598 - val_loss: 0.5884 - val_accuracy: 0.9287 - val_auc: 0.5600\n",
      "Epoch 26/350\n",
      "247/247 [==============================] - 0s 2ms/step - loss: 0.0824 - accuracy: 0.9733 - auc: 0.9580 - val_loss: 0.5349 - val_accuracy: 0.9271 - val_auc: 0.5351\n",
      "Epoch 27/350\n",
      "247/247 [==============================] - 0s 2ms/step - loss: 0.0831 - accuracy: 0.9720 - auc: 0.9624 - val_loss: 0.5958 - val_accuracy: 0.9303 - val_auc: 0.5385\n",
      "Epoch 28/350\n",
      "247/247 [==============================] - 0s 2ms/step - loss: 0.0825 - accuracy: 0.9724 - auc: 0.9604 - val_loss: 0.5917 - val_accuracy: 0.9271 - val_auc: 0.5444\n",
      "Epoch 29/350\n",
      "247/247 [==============================] - 0s 2ms/step - loss: 0.0846 - accuracy: 0.9733 - auc: 0.9571 - val_loss: 0.5744 - val_accuracy: 0.9271 - val_auc: 0.5547\n",
      "Epoch 30/350\n",
      "247/247 [==============================] - 0s 2ms/step - loss: 0.0862 - accuracy: 0.9696 - auc: 0.9596 - val_loss: 0.5473 - val_accuracy: 0.9222 - val_auc: 0.5286\n",
      "Epoch 31/350\n",
      "247/247 [==============================] - 0s 2ms/step - loss: 0.0816 - accuracy: 0.9737 - auc: 0.9609 - val_loss: 0.5626 - val_accuracy: 0.9190 - val_auc: 0.5707\n",
      "Epoch 32/350\n",
      "247/247 [==============================] - 0s 2ms/step - loss: 0.0821 - accuracy: 0.9733 - auc: 0.9601 - val_loss: 0.5906 - val_accuracy: 0.9254 - val_auc: 0.5455\n",
      "Epoch 33/350\n",
      "247/247 [==============================] - 0s 2ms/step - loss: 0.0824 - accuracy: 0.9729 - auc: 0.9580 - val_loss: 0.6121 - val_accuracy: 0.9319 - val_auc: 0.5436\n",
      "Epoch 34/350\n",
      "247/247 [==============================] - 0s 2ms/step - loss: 0.0796 - accuracy: 0.9737 - auc: 0.9621 - val_loss: 0.5844 - val_accuracy: 0.9190 - val_auc: 0.5539\n",
      "Epoch 35/350\n",
      "247/247 [==============================] - 0s 2ms/step - loss: 0.0810 - accuracy: 0.9720 - auc: 0.9616 - val_loss: 0.5660 - val_accuracy: 0.9238 - val_auc: 0.5599\n",
      "Epoch 36/350\n",
      "247/247 [==============================] - 0s 2ms/step - loss: 0.0792 - accuracy: 0.9737 - auc: 0.9647 - val_loss: 0.5798 - val_accuracy: 0.9222 - val_auc: 0.5382\n",
      "Epoch 37/350\n",
      "247/247 [==============================] - 0s 2ms/step - loss: 0.0807 - accuracy: 0.9720 - auc: 0.9619 - val_loss: 0.5479 - val_accuracy: 0.9222 - val_auc: 0.5464\n",
      "Epoch 38/350\n",
      "247/247 [==============================] - 0s 2ms/step - loss: 0.0802 - accuracy: 0.9741 - auc: 0.9598 - val_loss: 0.6043 - val_accuracy: 0.9254 - val_auc: 0.5420\n",
      "Epoch 39/350\n",
      "247/247 [==============================] - 0s 2ms/step - loss: 0.0789 - accuracy: 0.9733 - auc: 0.9621 - val_loss: 0.5758 - val_accuracy: 0.9222 - val_auc: 0.5283\n",
      "Epoch 40/350\n",
      "247/247 [==============================] - 0s 2ms/step - loss: 0.0772 - accuracy: 0.9749 - auc: 0.9669 - val_loss: 0.6173 - val_accuracy: 0.9319 - val_auc: 0.5513\n",
      "Epoch 41/350\n",
      "247/247 [==============================] - 0s 2ms/step - loss: 0.0817 - accuracy: 0.9733 - auc: 0.9620 - val_loss: 0.5918 - val_accuracy: 0.9222 - val_auc: 0.5049\n",
      "Epoch 42/350\n",
      "247/247 [==============================] - 0s 2ms/step - loss: 0.0881 - accuracy: 0.9716 - auc: 0.9571 - val_loss: 0.5552 - val_accuracy: 0.9254 - val_auc: 0.5514\n",
      "Epoch 43/350\n",
      "247/247 [==============================] - 0s 2ms/step - loss: 0.0851 - accuracy: 0.9708 - auc: 0.9623 - val_loss: 0.6075 - val_accuracy: 0.9335 - val_auc: 0.5714\n",
      "Epoch 44/350\n",
      "247/247 [==============================] - 0s 2ms/step - loss: 0.0787 - accuracy: 0.9757 - auc: 0.9624 - val_loss: 0.5854 - val_accuracy: 0.9254 - val_auc: 0.5484\n",
      "Epoch 45/350\n",
      "247/247 [==============================] - 0s 2ms/step - loss: 0.0769 - accuracy: 0.9733 - auc: 0.9648 - val_loss: 0.5789 - val_accuracy: 0.9254 - val_auc: 0.5435\n",
      "Epoch 46/350\n",
      "247/247 [==============================] - 0s 2ms/step - loss: 0.0774 - accuracy: 0.9741 - auc: 0.9673 - val_loss: 0.5818 - val_accuracy: 0.9238 - val_auc: 0.5444\n",
      "Epoch 47/350\n",
      "247/247 [==============================] - 0s 2ms/step - loss: 0.0760 - accuracy: 0.9761 - auc: 0.9646 - val_loss: 0.6135 - val_accuracy: 0.9287 - val_auc: 0.5424\n",
      "Epoch 48/350\n",
      "247/247 [==============================] - 0s 2ms/step - loss: 0.0761 - accuracy: 0.9745 - auc: 0.9659 - val_loss: 0.6195 - val_accuracy: 0.9222 - val_auc: 0.5383\n",
      "Epoch 49/350\n",
      "247/247 [==============================] - 0s 2ms/step - loss: 0.0806 - accuracy: 0.9720 - auc: 0.9628 - val_loss: 0.6219 - val_accuracy: 0.9303 - val_auc: 0.5689\n",
      "Epoch 50/350\n",
      "247/247 [==============================] - 0s 2ms/step - loss: 0.0769 - accuracy: 0.9745 - auc: 0.9657 - val_loss: 0.6173 - val_accuracy: 0.9303 - val_auc: 0.5616\n",
      "Epoch 51/350\n",
      "247/247 [==============================] - 0s 2ms/step - loss: 0.0751 - accuracy: 0.9761 - auc: 0.9647 - val_loss: 0.6195 - val_accuracy: 0.9141 - val_auc: 0.5349\n",
      "Epoch 52/350\n",
      "247/247 [==============================] - 0s 2ms/step - loss: 0.0751 - accuracy: 0.9749 - auc: 0.9651 - val_loss: 0.6133 - val_accuracy: 0.9190 - val_auc: 0.5378\n",
      "Epoch 53/350\n",
      "247/247 [==============================] - 0s 2ms/step - loss: 0.0735 - accuracy: 0.9761 - auc: 0.9696 - val_loss: 0.6282 - val_accuracy: 0.9287 - val_auc: 0.5478\n",
      "Epoch 54/350\n",
      "247/247 [==============================] - 0s 2ms/step - loss: 0.0727 - accuracy: 0.9781 - auc: 0.9673 - val_loss: 0.6596 - val_accuracy: 0.9206 - val_auc: 0.5487\n",
      "Epoch 55/350\n",
      "247/247 [==============================] - 0s 2ms/step - loss: 0.0727 - accuracy: 0.9773 - auc: 0.9683 - val_loss: 0.6287 - val_accuracy: 0.9287 - val_auc: 0.5563\n",
      "Epoch 56/350\n",
      "247/247 [==============================] - 0s 2ms/step - loss: 0.0720 - accuracy: 0.9773 - auc: 0.9692 - val_loss: 0.6570 - val_accuracy: 0.9222 - val_auc: 0.5559\n",
      "Epoch 57/350\n",
      "247/247 [==============================] - 0s 2ms/step - loss: 0.1038 - accuracy: 0.9712 - auc: 0.9334 - val_loss: 0.6616 - val_accuracy: 0.9271 - val_auc: 0.5540\n",
      "Epoch 58/350\n",
      "247/247 [==============================] - 0s 2ms/step - loss: 0.0761 - accuracy: 0.9745 - auc: 0.9662 - val_loss: 0.6493 - val_accuracy: 0.9238 - val_auc: 0.5431\n",
      "Epoch 59/350\n",
      "247/247 [==============================] - 0s 2ms/step - loss: 0.0742 - accuracy: 0.9745 - auc: 0.9683 - val_loss: 0.6366 - val_accuracy: 0.9157 - val_auc: 0.5388\n",
      "Epoch 60/350\n",
      "247/247 [==============================] - 0s 2ms/step - loss: 0.0731 - accuracy: 0.9765 - auc: 0.9675 - val_loss: 0.6251 - val_accuracy: 0.9125 - val_auc: 0.5258\n",
      "Epoch 61/350\n",
      "247/247 [==============================] - 0s 2ms/step - loss: 0.0712 - accuracy: 0.9781 - auc: 0.9686 - val_loss: 0.6604 - val_accuracy: 0.9206 - val_auc: 0.5403\n",
      "Epoch 62/350\n",
      "247/247 [==============================] - 0s 2ms/step - loss: 0.0708 - accuracy: 0.9773 - auc: 0.9717 - val_loss: 0.6899 - val_accuracy: 0.9319 - val_auc: 0.5446\n",
      "Epoch 63/350\n",
      "247/247 [==============================] - 0s 2ms/step - loss: 0.0721 - accuracy: 0.9777 - auc: 0.9696 - val_loss: 0.6598 - val_accuracy: 0.9254 - val_auc: 0.5380\n",
      "Epoch 64/350\n",
      "247/247 [==============================] - 0s 2ms/step - loss: 0.0720 - accuracy: 0.9777 - auc: 0.9691 - val_loss: 0.6932 - val_accuracy: 0.9157 - val_auc: 0.5464\n",
      "Epoch 65/350\n",
      "247/247 [==============================] - 0s 2ms/step - loss: 0.0711 - accuracy: 0.9773 - auc: 0.9684 - val_loss: 0.6537 - val_accuracy: 0.9141 - val_auc: 0.5388\n",
      "Epoch 66/350\n",
      "247/247 [==============================] - 0s 2ms/step - loss: 0.0753 - accuracy: 0.9753 - auc: 0.9673 - val_loss: 0.7555 - val_accuracy: 0.9352 - val_auc: 0.5791\n",
      "Epoch 67/350\n",
      "247/247 [==============================] - 0s 2ms/step - loss: 0.0866 - accuracy: 0.9749 - auc: 0.9503 - val_loss: 0.7213 - val_accuracy: 0.9287 - val_auc: 0.5609\n",
      "Epoch 68/350\n",
      "247/247 [==============================] - 0s 2ms/step - loss: 0.0713 - accuracy: 0.9777 - auc: 0.9681 - val_loss: 0.7009 - val_accuracy: 0.9254 - val_auc: 0.5599\n",
      "Epoch 69/350\n",
      "247/247 [==============================] - 0s 2ms/step - loss: 0.0724 - accuracy: 0.9761 - auc: 0.9708 - val_loss: 0.6531 - val_accuracy: 0.9238 - val_auc: 0.5495\n",
      "Epoch 70/350\n",
      "247/247 [==============================] - 0s 2ms/step - loss: 0.0697 - accuracy: 0.9789 - auc: 0.9734 - val_loss: 0.7192 - val_accuracy: 0.9254 - val_auc: 0.5561\n",
      "Epoch 71/350\n",
      "247/247 [==============================] - 0s 2ms/step - loss: 0.0706 - accuracy: 0.9761 - auc: 0.9712 - val_loss: 0.7090 - val_accuracy: 0.9222 - val_auc: 0.5412\n",
      "Epoch 72/350\n",
      "247/247 [==============================] - 0s 2ms/step - loss: 0.0712 - accuracy: 0.9781 - auc: 0.9702 - val_loss: 0.6786 - val_accuracy: 0.9092 - val_auc: 0.5381\n",
      "Epoch 73/350\n",
      "247/247 [==============================] - 0s 2ms/step - loss: 0.0683 - accuracy: 0.9793 - auc: 0.9722 - val_loss: 0.6914 - val_accuracy: 0.9271 - val_auc: 0.5625\n",
      "Epoch 74/350\n",
      "247/247 [==============================] - 0s 2ms/step - loss: 0.0692 - accuracy: 0.9777 - auc: 0.9701 - val_loss: 0.7279 - val_accuracy: 0.9287 - val_auc: 0.5503\n",
      "Epoch 75/350\n",
      "247/247 [==============================] - 0s 2ms/step - loss: 0.0677 - accuracy: 0.9806 - auc: 0.9723 - val_loss: 0.6814 - val_accuracy: 0.9092 - val_auc: 0.5481\n",
      "Epoch 76/350\n",
      "247/247 [==============================] - 0s 2ms/step - loss: 0.0687 - accuracy: 0.9777 - auc: 0.9726 - val_loss: 0.6642 - val_accuracy: 0.9173 - val_auc: 0.5383\n",
      "Epoch 77/350\n",
      "247/247 [==============================] - 0s 2ms/step - loss: 0.0708 - accuracy: 0.9789 - auc: 0.9703 - val_loss: 0.6901 - val_accuracy: 0.9109 - val_auc: 0.5387\n",
      "Epoch 78/350\n",
      "247/247 [==============================] - 0s 2ms/step - loss: 0.0693 - accuracy: 0.9793 - auc: 0.9699 - val_loss: 0.7695 - val_accuracy: 0.9319 - val_auc: 0.5675\n",
      "Epoch 79/350\n",
      "247/247 [==============================] - 0s 2ms/step - loss: 0.0678 - accuracy: 0.9777 - auc: 0.9730 - val_loss: 0.7584 - val_accuracy: 0.9287 - val_auc: 0.5528\n",
      "Epoch 80/350\n",
      "247/247 [==============================] - 0s 2ms/step - loss: 0.0700 - accuracy: 0.9777 - auc: 0.9709 - val_loss: 0.6972 - val_accuracy: 0.9238 - val_auc: 0.5580\n",
      "Epoch 81/350\n",
      "247/247 [==============================] - 0s 2ms/step - loss: 0.0679 - accuracy: 0.9785 - auc: 0.9717 - val_loss: 0.7194 - val_accuracy: 0.9271 - val_auc: 0.5521\n",
      "Epoch 82/350\n",
      "247/247 [==============================] - 0s 2ms/step - loss: 0.0665 - accuracy: 0.9793 - auc: 0.9728 - val_loss: 0.6771 - val_accuracy: 0.9190 - val_auc: 0.5451\n",
      "Epoch 83/350\n",
      "247/247 [==============================] - 0s 2ms/step - loss: 0.0671 - accuracy: 0.9777 - auc: 0.9731 - val_loss: 0.7148 - val_accuracy: 0.9238 - val_auc: 0.5586\n",
      "Epoch 84/350\n",
      "247/247 [==============================] - 0s 2ms/step - loss: 0.0684 - accuracy: 0.9785 - auc: 0.9706 - val_loss: 0.7658 - val_accuracy: 0.9303 - val_auc: 0.5753\n",
      "Epoch 85/350\n",
      "247/247 [==============================] - 0s 2ms/step - loss: 0.0850 - accuracy: 0.9733 - auc: 0.9545 - val_loss: 0.7163 - val_accuracy: 0.9109 - val_auc: 0.5452\n",
      "Epoch 86/350\n",
      "247/247 [==============================] - 0s 2ms/step - loss: 0.0692 - accuracy: 0.9793 - auc: 0.9719 - val_loss: 0.7354 - val_accuracy: 0.9271 - val_auc: 0.5416\n",
      "Epoch 87/350\n",
      "247/247 [==============================] - 0s 2ms/step - loss: 0.0673 - accuracy: 0.9797 - auc: 0.9722 - val_loss: 0.6998 - val_accuracy: 0.9125 - val_auc: 0.5318\n",
      "Epoch 88/350\n",
      "247/247 [==============================] - 0s 2ms/step - loss: 0.0646 - accuracy: 0.9797 - auc: 0.9739 - val_loss: 0.7382 - val_accuracy: 0.9238 - val_auc: 0.5404\n",
      "Epoch 89/350\n",
      "247/247 [==============================] - 0s 2ms/step - loss: 0.0667 - accuracy: 0.9801 - auc: 0.9734 - val_loss: 0.6928 - val_accuracy: 0.9222 - val_auc: 0.5556\n",
      "Epoch 90/350\n",
      "247/247 [==============================] - 0s 2ms/step - loss: 0.0664 - accuracy: 0.9801 - auc: 0.9741 - val_loss: 0.7667 - val_accuracy: 0.9206 - val_auc: 0.5466\n",
      "Epoch 91/350\n",
      "247/247 [==============================] - 0s 2ms/step - loss: 0.0669 - accuracy: 0.9773 - auc: 0.9734 - val_loss: 0.7510 - val_accuracy: 0.9157 - val_auc: 0.5443\n",
      "Epoch 92/350\n",
      "247/247 [==============================] - 1s 2ms/step - loss: 0.0678 - accuracy: 0.9789 - auc: 0.9731 - val_loss: 0.7599 - val_accuracy: 0.9287 - val_auc: 0.5546\n",
      "Epoch 93/350\n",
      "247/247 [==============================] - 1s 2ms/step - loss: 0.0642 - accuracy: 0.9810 - auc: 0.9739 - val_loss: 0.8040 - val_accuracy: 0.9190 - val_auc: 0.5513\n",
      "Epoch 94/350\n",
      "247/247 [==============================] - 0s 2ms/step - loss: 0.0749 - accuracy: 0.9777 - auc: 0.9655 - val_loss: 0.7647 - val_accuracy: 0.9222 - val_auc: 0.5465\n",
      "Epoch 95/350\n",
      "247/247 [==============================] - 0s 2ms/step - loss: 0.0795 - accuracy: 0.9757 - auc: 0.9684 - val_loss: 0.7709 - val_accuracy: 0.9254 - val_auc: 0.5562\n",
      "Epoch 96/350\n",
      "247/247 [==============================] - 0s 2ms/step - loss: 0.0650 - accuracy: 0.9773 - auc: 0.9754 - val_loss: 0.8003 - val_accuracy: 0.9271 - val_auc: 0.5660\n",
      "Epoch 97/350\n",
      "247/247 [==============================] - 0s 2ms/step - loss: 0.0642 - accuracy: 0.9781 - auc: 0.9756 - val_loss: 0.7594 - val_accuracy: 0.9206 - val_auc: 0.5437\n",
      "Epoch 98/350\n",
      "247/247 [==============================] - 0s 2ms/step - loss: 0.0649 - accuracy: 0.9789 - auc: 0.9738 - val_loss: 0.7765 - val_accuracy: 0.9238 - val_auc: 0.5541\n",
      "Epoch 99/350\n",
      "247/247 [==============================] - 0s 2ms/step - loss: 0.0631 - accuracy: 0.9797 - auc: 0.9767 - val_loss: 0.7861 - val_accuracy: 0.9222 - val_auc: 0.5486\n",
      "Epoch 100/350\n",
      "247/247 [==============================] - 0s 2ms/step - loss: 0.0638 - accuracy: 0.9801 - auc: 0.9752 - val_loss: 0.7810 - val_accuracy: 0.9238 - val_auc: 0.5637\n",
      "Epoch 101/350\n",
      "247/247 [==============================] - 0s 2ms/step - loss: 0.0637 - accuracy: 0.9801 - auc: 0.9757 - val_loss: 0.7537 - val_accuracy: 0.9125 - val_auc: 0.5420\n",
      "Epoch 102/350\n",
      "247/247 [==============================] - 0s 2ms/step - loss: 0.0660 - accuracy: 0.9789 - auc: 0.9743 - val_loss: 0.8091 - val_accuracy: 0.9254 - val_auc: 0.5624\n",
      "Epoch 103/350\n",
      "247/247 [==============================] - 0s 2ms/step - loss: 0.0666 - accuracy: 0.9793 - auc: 0.9733 - val_loss: 0.8106 - val_accuracy: 0.9222 - val_auc: 0.5599\n",
      "Epoch 104/350\n",
      "247/247 [==============================] - 0s 2ms/step - loss: 0.0672 - accuracy: 0.9777 - auc: 0.9746 - val_loss: 0.7639 - val_accuracy: 0.9157 - val_auc: 0.5480\n",
      "Epoch 105/350\n",
      "247/247 [==============================] - 0s 2ms/step - loss: 0.0619 - accuracy: 0.9810 - auc: 0.9752 - val_loss: 0.7983 - val_accuracy: 0.9173 - val_auc: 0.5599\n",
      "Epoch 106/350\n",
      "247/247 [==============================] - 0s 2ms/step - loss: 0.0621 - accuracy: 0.9801 - auc: 0.9782 - val_loss: 0.8747 - val_accuracy: 0.9319 - val_auc: 0.5542\n",
      "Epoch 107/350\n",
      "247/247 [==============================] - 0s 2ms/step - loss: 0.0858 - accuracy: 0.9745 - auc: 0.9594 - val_loss: 0.6472 - val_accuracy: 0.9190 - val_auc: 0.5719\n",
      "Epoch 108/350\n",
      "247/247 [==============================] - 0s 2ms/step - loss: 0.0638 - accuracy: 0.9789 - auc: 0.9749 - val_loss: 0.8205 - val_accuracy: 0.9335 - val_auc: 0.5496\n",
      "Epoch 109/350\n",
      "247/247 [==============================] - 0s 2ms/step - loss: 0.0626 - accuracy: 0.9801 - auc: 0.9753 - val_loss: 0.7753 - val_accuracy: 0.9190 - val_auc: 0.5540\n",
      "Epoch 110/350\n",
      "247/247 [==============================] - 0s 2ms/step - loss: 0.0623 - accuracy: 0.9806 - auc: 0.9768 - val_loss: 0.7857 - val_accuracy: 0.9271 - val_auc: 0.5578\n",
      "Epoch 111/350\n",
      "247/247 [==============================] - 0s 2ms/step - loss: 0.0614 - accuracy: 0.9818 - auc: 0.9768 - val_loss: 0.7858 - val_accuracy: 0.9222 - val_auc: 0.5561\n",
      "Epoch 112/350\n",
      "247/247 [==============================] - 0s 2ms/step - loss: 0.0655 - accuracy: 0.9781 - auc: 0.9743 - val_loss: 0.7797 - val_accuracy: 0.9319 - val_auc: 0.5603\n",
      "Epoch 113/350\n",
      "247/247 [==============================] - 0s 2ms/step - loss: 0.0817 - accuracy: 0.9749 - auc: 0.9624 - val_loss: 0.7985 - val_accuracy: 0.9222 - val_auc: 0.5463\n",
      "Epoch 114/350\n",
      "247/247 [==============================] - 0s 2ms/step - loss: 0.0644 - accuracy: 0.9793 - auc: 0.9747 - val_loss: 0.8266 - val_accuracy: 0.9222 - val_auc: 0.5384\n",
      "Epoch 115/350\n",
      "247/247 [==============================] - 0s 2ms/step - loss: 0.0643 - accuracy: 0.9793 - auc: 0.9744 - val_loss: 0.7757 - val_accuracy: 0.9109 - val_auc: 0.5409\n",
      "Epoch 116/350\n",
      "247/247 [==============================] - 0s 2ms/step - loss: 0.0618 - accuracy: 0.9801 - auc: 0.9768 - val_loss: 0.8147 - val_accuracy: 0.9238 - val_auc: 0.5417\n",
      "Epoch 117/350\n",
      "247/247 [==============================] - 0s 2ms/step - loss: 0.0592 - accuracy: 0.9814 - auc: 0.9773 - val_loss: 0.8008 - val_accuracy: 0.9125 - val_auc: 0.5323\n",
      "Epoch 118/350\n",
      "247/247 [==============================] - 0s 2ms/step - loss: 0.0615 - accuracy: 0.9806 - auc: 0.9767 - val_loss: 0.8424 - val_accuracy: 0.9222 - val_auc: 0.5429\n",
      "Epoch 119/350\n",
      "247/247 [==============================] - 0s 2ms/step - loss: 0.0653 - accuracy: 0.9801 - auc: 0.9708 - val_loss: 0.8122 - val_accuracy: 0.9319 - val_auc: 0.5547\n",
      "Epoch 120/350\n",
      "247/247 [==============================] - 0s 2ms/step - loss: 0.1004 - accuracy: 0.9749 - auc: 0.9462 - val_loss: 0.8117 - val_accuracy: 0.9254 - val_auc: 0.5391\n",
      "Epoch 121/350\n",
      "247/247 [==============================] - 0s 2ms/step - loss: 0.0604 - accuracy: 0.9797 - auc: 0.9778 - val_loss: 0.8471 - val_accuracy: 0.9335 - val_auc: 0.5634\n",
      "Epoch 122/350\n",
      "247/247 [==============================] - 0s 2ms/step - loss: 0.0608 - accuracy: 0.9797 - auc: 0.9787 - val_loss: 0.7982 - val_accuracy: 0.9206 - val_auc: 0.5464\n",
      "Epoch 123/350\n",
      "247/247 [==============================] - 0s 2ms/step - loss: 0.0584 - accuracy: 0.9818 - auc: 0.9789 - val_loss: 0.8304 - val_accuracy: 0.9222 - val_auc: 0.5443\n",
      "Epoch 124/350\n",
      "247/247 [==============================] - 0s 2ms/step - loss: 0.0595 - accuracy: 0.9806 - auc: 0.9787 - val_loss: 0.8203 - val_accuracy: 0.9238 - val_auc: 0.5481\n",
      "Epoch 125/350\n",
      "247/247 [==============================] - 0s 2ms/step - loss: 0.0579 - accuracy: 0.9801 - auc: 0.9797 - val_loss: 0.7960 - val_accuracy: 0.9060 - val_auc: 0.5461\n",
      "Epoch 126/350\n",
      "247/247 [==============================] - 0s 2ms/step - loss: 0.0589 - accuracy: 0.9806 - auc: 0.9799 - val_loss: 0.8175 - val_accuracy: 0.9190 - val_auc: 0.5448\n",
      "Epoch 127/350\n",
      "247/247 [==============================] - 0s 2ms/step - loss: 0.0591 - accuracy: 0.9830 - auc: 0.9785 - val_loss: 0.8474 - val_accuracy: 0.9238 - val_auc: 0.5480\n",
      "Epoch 128/350\n",
      "247/247 [==============================] - 0s 2ms/step - loss: 0.0593 - accuracy: 0.9822 - auc: 0.9786 - val_loss: 0.8499 - val_accuracy: 0.9157 - val_auc: 0.5404\n",
      "Epoch 129/350\n",
      "247/247 [==============================] - 0s 2ms/step - loss: 0.0740 - accuracy: 0.9765 - auc: 0.9661 - val_loss: 0.7368 - val_accuracy: 0.9173 - val_auc: 0.5702\n",
      "Epoch 130/350\n",
      "247/247 [==============================] - 0s 2ms/step - loss: 0.0668 - accuracy: 0.9793 - auc: 0.9729 - val_loss: 0.8137 - val_accuracy: 0.9238 - val_auc: 0.5765\n",
      "Epoch 131/350\n",
      "247/247 [==============================] - 0s 2ms/step - loss: 0.0576 - accuracy: 0.9818 - auc: 0.9811 - val_loss: 0.7608 - val_accuracy: 0.9157 - val_auc: 0.5612\n",
      "Epoch 132/350\n",
      "247/247 [==============================] - 0s 2ms/step - loss: 0.0605 - accuracy: 0.9818 - auc: 0.9773 - val_loss: 0.8834 - val_accuracy: 0.9271 - val_auc: 0.5502\n",
      "Epoch 133/350\n",
      "247/247 [==============================] - 0s 2ms/step - loss: 0.0585 - accuracy: 0.9830 - auc: 0.9792 - val_loss: 0.8664 - val_accuracy: 0.9190 - val_auc: 0.5358\n",
      "Epoch 134/350\n",
      "247/247 [==============================] - 0s 2ms/step - loss: 0.0610 - accuracy: 0.9818 - auc: 0.9757 - val_loss: 0.8414 - val_accuracy: 0.9271 - val_auc: 0.5606\n",
      "Epoch 135/350\n",
      "247/247 [==============================] - 0s 2ms/step - loss: 0.0602 - accuracy: 0.9801 - auc: 0.9777 - val_loss: 0.8642 - val_accuracy: 0.9141 - val_auc: 0.5567\n",
      "Epoch 136/350\n",
      "247/247 [==============================] - 0s 2ms/step - loss: 0.0582 - accuracy: 0.9826 - auc: 0.9784 - val_loss: 0.8926 - val_accuracy: 0.9335 - val_auc: 0.5805\n",
      "Epoch 137/350\n",
      "247/247 [==============================] - 0s 2ms/step - loss: 0.0586 - accuracy: 0.9801 - auc: 0.9787 - val_loss: 0.8821 - val_accuracy: 0.9238 - val_auc: 0.5548\n",
      "Epoch 138/350\n",
      "247/247 [==============================] - 0s 2ms/step - loss: 0.0590 - accuracy: 0.9810 - auc: 0.9786 - val_loss: 0.9085 - val_accuracy: 0.9190 - val_auc: 0.5457\n",
      "Epoch 139/350\n",
      "247/247 [==============================] - 0s 2ms/step - loss: 0.0576 - accuracy: 0.9810 - auc: 0.9808 - val_loss: 0.9264 - val_accuracy: 0.9254 - val_auc: 0.5759\n",
      "Epoch 140/350\n",
      "247/247 [==============================] - 0s 2ms/step - loss: 0.0592 - accuracy: 0.9797 - auc: 0.9790 - val_loss: 0.8683 - val_accuracy: 0.9157 - val_auc: 0.5465\n",
      "Epoch 141/350\n",
      "247/247 [==============================] - 0s 2ms/step - loss: 0.0650 - accuracy: 0.9785 - auc: 0.9764 - val_loss: 0.8722 - val_accuracy: 0.9303 - val_auc: 0.5687\n",
      "Epoch 142/350\n",
      "247/247 [==============================] - 0s 2ms/step - loss: 0.0579 - accuracy: 0.9818 - auc: 0.9803 - val_loss: 0.8815 - val_accuracy: 0.9190 - val_auc: 0.5435\n",
      "Epoch 143/350\n",
      "247/247 [==============================] - 0s 2ms/step - loss: 0.0585 - accuracy: 0.9810 - auc: 0.9801 - val_loss: 0.9571 - val_accuracy: 0.9271 - val_auc: 0.5625\n",
      "Epoch 144/350\n",
      "247/247 [==============================] - 0s 2ms/step - loss: 0.0590 - accuracy: 0.9810 - auc: 0.9784 - val_loss: 0.7626 - val_accuracy: 0.9141 - val_auc: 0.5497\n",
      "Epoch 145/350\n",
      "247/247 [==============================] - 0s 2ms/step - loss: 0.0766 - accuracy: 0.9761 - auc: 0.9626 - val_loss: 0.9534 - val_accuracy: 0.9303 - val_auc: 0.5751\n",
      "Epoch 146/350\n",
      "247/247 [==============================] - 0s 2ms/step - loss: 0.0568 - accuracy: 0.9814 - auc: 0.9801 - val_loss: 0.9129 - val_accuracy: 0.9254 - val_auc: 0.5628\n",
      "Epoch 147/350\n",
      "247/247 [==============================] - 0s 2ms/step - loss: 0.0574 - accuracy: 0.9801 - auc: 0.9807 - val_loss: 0.9455 - val_accuracy: 0.9271 - val_auc: 0.5852\n",
      "Epoch 148/350\n",
      "247/247 [==============================] - 0s 2ms/step - loss: 0.0573 - accuracy: 0.9818 - auc: 0.9782 - val_loss: 0.9413 - val_accuracy: 0.9254 - val_auc: 0.5629\n",
      "Epoch 149/350\n",
      "247/247 [==============================] - 0s 2ms/step - loss: 0.0554 - accuracy: 0.9838 - auc: 0.9794 - val_loss: 0.9678 - val_accuracy: 0.9287 - val_auc: 0.5728\n",
      "Epoch 150/350\n",
      "247/247 [==============================] - 0s 2ms/step - loss: 0.0562 - accuracy: 0.9822 - auc: 0.9791 - val_loss: 0.9424 - val_accuracy: 0.9319 - val_auc: 0.5904\n",
      "Epoch 151/350\n",
      "247/247 [==============================] - 0s 2ms/step - loss: 0.0571 - accuracy: 0.9814 - auc: 0.9802 - val_loss: 1.0706 - val_accuracy: 0.9319 - val_auc: 0.5776\n",
      "Epoch 152/350\n",
      "247/247 [==============================] - 0s 2ms/step - loss: 0.0599 - accuracy: 0.9806 - auc: 0.9775 - val_loss: 0.9153 - val_accuracy: 0.8963 - val_auc: 0.5393\n",
      "Epoch 153/350\n",
      "247/247 [==============================] - 0s 2ms/step - loss: 0.0573 - accuracy: 0.9834 - auc: 0.9778 - val_loss: 0.9347 - val_accuracy: 0.9141 - val_auc: 0.5687\n",
      "Epoch 154/350\n",
      "247/247 [==============================] - 0s 2ms/step - loss: 0.0602 - accuracy: 0.9797 - auc: 0.9783 - val_loss: 0.9124 - val_accuracy: 0.9222 - val_auc: 0.5789\n",
      "Epoch 155/350\n",
      "247/247 [==============================] - 0s 2ms/step - loss: 0.0548 - accuracy: 0.9830 - auc: 0.9808 - val_loss: 0.9380 - val_accuracy: 0.9157 - val_auc: 0.5671\n",
      "Epoch 156/350\n",
      "247/247 [==============================] - 0s 2ms/step - loss: 0.0548 - accuracy: 0.9830 - auc: 0.9791 - val_loss: 0.9675 - val_accuracy: 0.9190 - val_auc: 0.5531\n",
      "Epoch 157/350\n",
      "247/247 [==============================] - 0s 2ms/step - loss: 0.0590 - accuracy: 0.9822 - auc: 0.9737 - val_loss: 0.9190 - val_accuracy: 0.9141 - val_auc: 0.5844\n",
      "Epoch 158/350\n",
      "247/247 [==============================] - 0s 2ms/step - loss: 0.0714 - accuracy: 0.9765 - auc: 0.9742 - val_loss: 0.8839 - val_accuracy: 0.9157 - val_auc: 0.5533\n",
      "Epoch 159/350\n",
      "247/247 [==============================] - 0s 2ms/step - loss: 0.0568 - accuracy: 0.9826 - auc: 0.9810 - val_loss: 1.0077 - val_accuracy: 0.9335 - val_auc: 0.5653\n",
      "Epoch 160/350\n",
      "247/247 [==============================] - 0s 2ms/step - loss: 0.0608 - accuracy: 0.9797 - auc: 0.9764 - val_loss: 0.9182 - val_accuracy: 0.9222 - val_auc: 0.5641\n",
      "Epoch 161/350\n",
      "247/247 [==============================] - 0s 2ms/step - loss: 0.0525 - accuracy: 0.9830 - auc: 0.9824 - val_loss: 0.9031 - val_accuracy: 0.9238 - val_auc: 0.5693\n",
      "Epoch 162/350\n",
      "247/247 [==============================] - 0s 2ms/step - loss: 0.0539 - accuracy: 0.9822 - auc: 0.9812 - val_loss: 0.8939 - val_accuracy: 0.9206 - val_auc: 0.5685\n",
      "Epoch 163/350\n",
      "247/247 [==============================] - 0s 2ms/step - loss: 0.0522 - accuracy: 0.9822 - auc: 0.9827 - val_loss: 0.9280 - val_accuracy: 0.9173 - val_auc: 0.5672\n",
      "Epoch 164/350\n",
      "247/247 [==============================] - 0s 2ms/step - loss: 0.0522 - accuracy: 0.9842 - auc: 0.9811 - val_loss: 0.9619 - val_accuracy: 0.9173 - val_auc: 0.5446\n",
      "Epoch 165/350\n",
      "247/247 [==============================] - 0s 2ms/step - loss: 0.0606 - accuracy: 0.9830 - auc: 0.9781 - val_loss: 0.9296 - val_accuracy: 0.9206 - val_auc: 0.5556\n",
      "Epoch 166/350\n",
      "247/247 [==============================] - 0s 2ms/step - loss: 0.0567 - accuracy: 0.9822 - auc: 0.9796 - val_loss: 0.9254 - val_accuracy: 0.9060 - val_auc: 0.5512\n",
      "Epoch 167/350\n",
      "247/247 [==============================] - 0s 2ms/step - loss: 0.0530 - accuracy: 0.9834 - auc: 0.9811 - val_loss: 0.9380 - val_accuracy: 0.9303 - val_auc: 0.5796\n",
      "Epoch 168/350\n",
      "247/247 [==============================] - 0s 2ms/step - loss: 0.0536 - accuracy: 0.9826 - auc: 0.9811 - val_loss: 0.9801 - val_accuracy: 0.9271 - val_auc: 0.5815\n",
      "Epoch 169/350\n",
      "247/247 [==============================] - 0s 2ms/step - loss: 0.0530 - accuracy: 0.9838 - auc: 0.9811 - val_loss: 0.9308 - val_accuracy: 0.9271 - val_auc: 0.5649\n",
      "Epoch 170/350\n",
      "247/247 [==============================] - 0s 2ms/step - loss: 0.0524 - accuracy: 0.9834 - auc: 0.9818 - val_loss: 0.9719 - val_accuracy: 0.9157 - val_auc: 0.5439\n",
      "Epoch 171/350\n",
      "247/247 [==============================] - 0s 2ms/step - loss: 0.0561 - accuracy: 0.9814 - auc: 0.9805 - val_loss: 0.9878 - val_accuracy: 0.9303 - val_auc: 0.5739\n",
      "Epoch 172/350\n",
      "247/247 [==============================] - 0s 2ms/step - loss: 0.0769 - accuracy: 0.9753 - auc: 0.9713 - val_loss: 0.9821 - val_accuracy: 0.9076 - val_auc: 0.5439\n",
      "Epoch 173/350\n",
      "247/247 [==============================] - 0s 2ms/step - loss: 0.0641 - accuracy: 0.9797 - auc: 0.9802 - val_loss: 0.9613 - val_accuracy: 0.9254 - val_auc: 0.5667\n",
      "Epoch 174/350\n",
      "247/247 [==============================] - 0s 2ms/step - loss: 0.0521 - accuracy: 0.9846 - auc: 0.9815 - val_loss: 0.9953 - val_accuracy: 0.9238 - val_auc: 0.5668\n",
      "Epoch 175/350\n",
      "247/247 [==============================] - 0s 2ms/step - loss: 0.0521 - accuracy: 0.9822 - auc: 0.9858 - val_loss: 0.9744 - val_accuracy: 0.9238 - val_auc: 0.5781\n",
      "Epoch 176/350\n",
      "247/247 [==============================] - 0s 2ms/step - loss: 0.0511 - accuracy: 0.9826 - auc: 0.9811 - val_loss: 1.0649 - val_accuracy: 0.9271 - val_auc: 0.5691\n",
      "Epoch 177/350\n",
      "247/247 [==============================] - 1s 2ms/step - loss: 0.0520 - accuracy: 0.9838 - auc: 0.9818 - val_loss: 1.0299 - val_accuracy: 0.9254 - val_auc: 0.5732\n",
      "Epoch 178/350\n",
      "247/247 [==============================] - 1s 2ms/step - loss: 0.0500 - accuracy: 0.9858 - auc: 0.9825 - val_loss: 1.0099 - val_accuracy: 0.9206 - val_auc: 0.5545\n",
      "Epoch 179/350\n",
      "247/247 [==============================] - 0s 2ms/step - loss: 0.0502 - accuracy: 0.9854 - auc: 0.9837 - val_loss: 1.0351 - val_accuracy: 0.9109 - val_auc: 0.5400\n",
      "Epoch 180/350\n",
      "247/247 [==============================] - 0s 2ms/step - loss: 0.0548 - accuracy: 0.9822 - auc: 0.9818 - val_loss: 1.0086 - val_accuracy: 0.9190 - val_auc: 0.5627\n",
      "Epoch 181/350\n",
      "247/247 [==============================] - 0s 2ms/step - loss: 0.0501 - accuracy: 0.9830 - auc: 0.9867 - val_loss: 0.9552 - val_accuracy: 0.9190 - val_auc: 0.5626\n",
      "Epoch 182/350\n",
      "247/247 [==============================] - 0s 2ms/step - loss: 0.0495 - accuracy: 0.9862 - auc: 0.9830 - val_loss: 1.0026 - val_accuracy: 0.9238 - val_auc: 0.5820\n",
      "Epoch 183/350\n",
      "247/247 [==============================] - 0s 2ms/step - loss: 0.0505 - accuracy: 0.9846 - auc: 0.9826 - val_loss: 1.0183 - val_accuracy: 0.9271 - val_auc: 0.5799\n",
      "Epoch 184/350\n",
      "247/247 [==============================] - 0s 2ms/step - loss: 0.0494 - accuracy: 0.9850 - auc: 0.9867 - val_loss: 1.0065 - val_accuracy: 0.9109 - val_auc: 0.5458\n",
      "Epoch 185/350\n",
      "247/247 [==============================] - 0s 2ms/step - loss: 0.0542 - accuracy: 0.9830 - auc: 0.9834 - val_loss: 0.9782 - val_accuracy: 0.9157 - val_auc: 0.5729\n",
      "Epoch 186/350\n",
      "247/247 [==============================] - 0s 2ms/step - loss: 0.1032 - accuracy: 0.9745 - auc: 0.9440 - val_loss: 0.9797 - val_accuracy: 0.9238 - val_auc: 0.5708\n",
      "Epoch 187/350\n",
      "247/247 [==============================] - 0s 2ms/step - loss: 0.0576 - accuracy: 0.9822 - auc: 0.9787 - val_loss: 1.0206 - val_accuracy: 0.9222 - val_auc: 0.5795\n",
      "Epoch 188/350\n",
      "247/247 [==============================] - 0s 2ms/step - loss: 0.0497 - accuracy: 0.9854 - auc: 0.9867 - val_loss: 1.0313 - val_accuracy: 0.9125 - val_auc: 0.5632\n",
      "Epoch 189/350\n",
      "247/247 [==============================] - 0s 2ms/step - loss: 0.0500 - accuracy: 0.9850 - auc: 0.9866 - val_loss: 1.0703 - val_accuracy: 0.9238 - val_auc: 0.5774\n",
      "Epoch 190/350\n",
      "247/247 [==============================] - 0s 2ms/step - loss: 0.0485 - accuracy: 0.9842 - auc: 0.9877 - val_loss: 1.0463 - val_accuracy: 0.9222 - val_auc: 0.5649\n",
      "Epoch 191/350\n",
      "247/247 [==============================] - 0s 2ms/step - loss: 0.0473 - accuracy: 0.9854 - auc: 0.9872 - val_loss: 1.0605 - val_accuracy: 0.9287 - val_auc: 0.5715\n",
      "Epoch 192/350\n",
      "247/247 [==============================] - 0s 2ms/step - loss: 0.0507 - accuracy: 0.9858 - auc: 0.9848 - val_loss: 1.0553 - val_accuracy: 0.9206 - val_auc: 0.5616\n",
      "Epoch 193/350\n",
      "247/247 [==============================] - 0s 2ms/step - loss: 0.0468 - accuracy: 0.9866 - auc: 0.9877 - val_loss: 1.0763 - val_accuracy: 0.9222 - val_auc: 0.5648\n",
      "Epoch 194/350\n",
      "247/247 [==============================] - 0s 2ms/step - loss: 0.0507 - accuracy: 0.9838 - auc: 0.9838 - val_loss: 0.9676 - val_accuracy: 0.9125 - val_auc: 0.5568\n",
      "Epoch 195/350\n",
      "247/247 [==============================] - 0s 2ms/step - loss: 0.0474 - accuracy: 0.9854 - auc: 0.9877 - val_loss: 1.0543 - val_accuracy: 0.9173 - val_auc: 0.5622\n",
      "Epoch 196/350\n",
      "247/247 [==============================] - 0s 2ms/step - loss: 0.0487 - accuracy: 0.9842 - auc: 0.9890 - val_loss: 1.0394 - val_accuracy: 0.9157 - val_auc: 0.5583\n",
      "Epoch 197/350\n",
      "247/247 [==============================] - 0s 2ms/step - loss: 0.0468 - accuracy: 0.9874 - auc: 0.9864 - val_loss: 1.0584 - val_accuracy: 0.9190 - val_auc: 0.5596\n",
      "Epoch 198/350\n",
      "247/247 [==============================] - 0s 2ms/step - loss: 0.0471 - accuracy: 0.9846 - auc: 0.9886 - val_loss: 1.0813 - val_accuracy: 0.9271 - val_auc: 0.5732\n",
      "Epoch 199/350\n",
      "247/247 [==============================] - 0s 2ms/step - loss: 0.0628 - accuracy: 0.9801 - auc: 0.9806 - val_loss: 1.0187 - val_accuracy: 0.9125 - val_auc: 0.5571\n",
      "Epoch 200/350\n",
      "247/247 [==============================] - 0s 2ms/step - loss: 0.0500 - accuracy: 0.9854 - auc: 0.9870 - val_loss: 1.1208 - val_accuracy: 0.9222 - val_auc: 0.5705\n",
      "Epoch 201/350\n",
      "247/247 [==============================] - 0s 2ms/step - loss: 0.0527 - accuracy: 0.9850 - auc: 0.9858 - val_loss: 1.1102 - val_accuracy: 0.9190 - val_auc: 0.5473\n",
      "Epoch 202/350\n",
      "247/247 [==============================] - 0s 2ms/step - loss: 0.0575 - accuracy: 0.9850 - auc: 0.9843 - val_loss: 1.0559 - val_accuracy: 0.9092 - val_auc: 0.5735\n",
      "Epoch 203/350\n",
      "247/247 [==============================] - 0s 2ms/step - loss: 0.0642 - accuracy: 0.9801 - auc: 0.9787 - val_loss: 1.0554 - val_accuracy: 0.9173 - val_auc: 0.5704\n",
      "Epoch 204/350\n",
      "247/247 [==============================] - 0s 2ms/step - loss: 0.0486 - accuracy: 0.9842 - auc: 0.9868 - val_loss: 1.0595 - val_accuracy: 0.9173 - val_auc: 0.5681\n",
      "Epoch 205/350\n",
      "247/247 [==============================] - 0s 2ms/step - loss: 0.0446 - accuracy: 0.9874 - auc: 0.9895 - val_loss: 1.0900 - val_accuracy: 0.9206 - val_auc: 0.5713\n",
      "Epoch 206/350\n",
      "247/247 [==============================] - 0s 2ms/step - loss: 0.0499 - accuracy: 0.9854 - auc: 0.9826 - val_loss: 1.0550 - val_accuracy: 0.9222 - val_auc: 0.5630\n",
      "Epoch 207/350\n",
      "247/247 [==============================] - 0s 2ms/step - loss: 0.0463 - accuracy: 0.9858 - auc: 0.9888 - val_loss: 1.0948 - val_accuracy: 0.9206 - val_auc: 0.5613\n",
      "Epoch 208/350\n",
      "247/247 [==============================] - 0s 2ms/step - loss: 0.0452 - accuracy: 0.9882 - auc: 0.9880 - val_loss: 1.0726 - val_accuracy: 0.9238 - val_auc: 0.5790\n",
      "Epoch 209/350\n",
      "247/247 [==============================] - 0s 2ms/step - loss: 0.0447 - accuracy: 0.9874 - auc: 0.9887 - val_loss: 1.0998 - val_accuracy: 0.9238 - val_auc: 0.5735\n",
      "Epoch 210/350\n",
      "247/247 [==============================] - 0s 2ms/step - loss: 0.0477 - accuracy: 0.9846 - auc: 0.9876 - val_loss: 1.1047 - val_accuracy: 0.9287 - val_auc: 0.5715\n",
      "Epoch 211/350\n",
      "247/247 [==============================] - 0s 2ms/step - loss: 0.0472 - accuracy: 0.9846 - auc: 0.9849 - val_loss: 1.1145 - val_accuracy: 0.9141 - val_auc: 0.5659\n",
      "Epoch 212/350\n",
      "247/247 [==============================] - 0s 2ms/step - loss: 0.0430 - accuracy: 0.9870 - auc: 0.9901 - val_loss: 1.1417 - val_accuracy: 0.9092 - val_auc: 0.5540\n",
      "Epoch 213/350\n",
      "247/247 [==============================] - 0s 2ms/step - loss: 0.0444 - accuracy: 0.9846 - auc: 0.9897 - val_loss: 1.1713 - val_accuracy: 0.9271 - val_auc: 0.5872\n",
      "Epoch 214/350\n",
      "247/247 [==============================] - 0s 2ms/step - loss: 0.0501 - accuracy: 0.9850 - auc: 0.9872 - val_loss: 1.1452 - val_accuracy: 0.9125 - val_auc: 0.5632\n",
      "Epoch 215/350\n",
      "247/247 [==============================] - 0s 2ms/step - loss: 0.0455 - accuracy: 0.9862 - auc: 0.9891 - val_loss: 1.1231 - val_accuracy: 0.9206 - val_auc: 0.5717\n",
      "Epoch 216/350\n",
      "247/247 [==============================] - 0s 2ms/step - loss: 0.0561 - accuracy: 0.9830 - auc: 0.9811 - val_loss: 1.2368 - val_accuracy: 0.9368 - val_auc: 0.5940\n",
      "Epoch 217/350\n",
      "247/247 [==============================] - 0s 2ms/step - loss: 0.0678 - accuracy: 0.9834 - auc: 0.9796 - val_loss: 1.0722 - val_accuracy: 0.9206 - val_auc: 0.5689\n",
      "Epoch 218/350\n",
      "247/247 [==============================] - 0s 2ms/step - loss: 0.0586 - accuracy: 0.9846 - auc: 0.9857 - val_loss: 1.0572 - val_accuracy: 0.9271 - val_auc: 0.5931\n",
      "Epoch 219/350\n",
      "247/247 [==============================] - 0s 2ms/step - loss: 0.0701 - accuracy: 0.9793 - auc: 0.9709 - val_loss: 1.0751 - val_accuracy: 0.9238 - val_auc: 0.5842\n",
      "Epoch 220/350\n",
      "247/247 [==============================] - 0s 2ms/step - loss: 0.0460 - accuracy: 0.9862 - auc: 0.9874 - val_loss: 1.0459 - val_accuracy: 0.9206 - val_auc: 0.5875\n",
      "Epoch 221/350\n",
      "247/247 [==============================] - 0s 2ms/step - loss: 0.0451 - accuracy: 0.9870 - auc: 0.9884 - val_loss: 1.1047 - val_accuracy: 0.9157 - val_auc: 0.5755\n",
      "Epoch 222/350\n",
      "247/247 [==============================] - 0s 2ms/step - loss: 0.0455 - accuracy: 0.9858 - auc: 0.9887 - val_loss: 1.1156 - val_accuracy: 0.9222 - val_auc: 0.5875\n",
      "Epoch 223/350\n",
      "247/247 [==============================] - 0s 2ms/step - loss: 0.0443 - accuracy: 0.9866 - auc: 0.9881 - val_loss: 1.1067 - val_accuracy: 0.9141 - val_auc: 0.5744\n",
      "Epoch 224/350\n",
      "247/247 [==============================] - 0s 2ms/step - loss: 0.0459 - accuracy: 0.9882 - auc: 0.9888 - val_loss: 1.1393 - val_accuracy: 0.9254 - val_auc: 0.5799\n",
      "Epoch 225/350\n",
      "247/247 [==============================] - 0s 2ms/step - loss: 0.0443 - accuracy: 0.9870 - auc: 0.9897 - val_loss: 1.0718 - val_accuracy: 0.9141 - val_auc: 0.5835\n",
      "Epoch 226/350\n",
      "247/247 [==============================] - 0s 2ms/step - loss: 0.0520 - accuracy: 0.9858 - auc: 0.9838 - val_loss: 1.1215 - val_accuracy: 0.9222 - val_auc: 0.5706\n",
      "Epoch 227/350\n",
      "247/247 [==============================] - 0s 2ms/step - loss: 0.0436 - accuracy: 0.9870 - auc: 0.9909 - val_loss: 1.1170 - val_accuracy: 0.9238 - val_auc: 0.5803\n",
      "Epoch 228/350\n",
      "247/247 [==============================] - 0s 2ms/step - loss: 0.0429 - accuracy: 0.9882 - auc: 0.9905 - val_loss: 1.1252 - val_accuracy: 0.9141 - val_auc: 0.5658\n",
      "Epoch 229/350\n",
      "247/247 [==============================] - 0s 2ms/step - loss: 0.0457 - accuracy: 0.9866 - auc: 0.9851 - val_loss: 1.0140 - val_accuracy: 0.9109 - val_auc: 0.5695\n",
      "Epoch 230/350\n",
      "247/247 [==============================] - 0s 2ms/step - loss: 0.0735 - accuracy: 0.9773 - auc: 0.9732 - val_loss: 1.0693 - val_accuracy: 0.9125 - val_auc: 0.5670\n",
      "Epoch 231/350\n",
      "247/247 [==============================] - 0s 2ms/step - loss: 0.0576 - accuracy: 0.9822 - auc: 0.9859 - val_loss: 1.1170 - val_accuracy: 0.9125 - val_auc: 0.5730\n",
      "Epoch 232/350\n",
      "247/247 [==============================] - 0s 2ms/step - loss: 0.0443 - accuracy: 0.9862 - auc: 0.9888 - val_loss: 1.1943 - val_accuracy: 0.9222 - val_auc: 0.5707\n",
      "Epoch 233/350\n",
      "247/247 [==============================] - 0s 2ms/step - loss: 0.0449 - accuracy: 0.9870 - auc: 0.9897 - val_loss: 1.0311 - val_accuracy: 0.9109 - val_auc: 0.5730\n",
      "Epoch 234/350\n",
      "247/247 [==============================] - 0s 2ms/step - loss: 0.0643 - accuracy: 0.9789 - auc: 0.9790 - val_loss: 1.0481 - val_accuracy: 0.9173 - val_auc: 0.5810\n",
      "Epoch 235/350\n",
      "247/247 [==============================] - 0s 2ms/step - loss: 0.0460 - accuracy: 0.9854 - auc: 0.9891 - val_loss: 1.2142 - val_accuracy: 0.9206 - val_auc: 0.5651\n",
      "Epoch 236/350\n",
      "247/247 [==============================] - 0s 2ms/step - loss: 0.0432 - accuracy: 0.9887 - auc: 0.9899 - val_loss: 1.1323 - val_accuracy: 0.9157 - val_auc: 0.5783\n",
      "Epoch 237/350\n",
      "247/247 [==============================] - 0s 2ms/step - loss: 0.0417 - accuracy: 0.9891 - auc: 0.9902 - val_loss: 1.1744 - val_accuracy: 0.9173 - val_auc: 0.5763\n",
      "Epoch 238/350\n",
      "247/247 [==============================] - 0s 2ms/step - loss: 0.0416 - accuracy: 0.9882 - auc: 0.9912 - val_loss: 1.1384 - val_accuracy: 0.9076 - val_auc: 0.5557\n",
      "Epoch 239/350\n",
      "247/247 [==============================] - 0s 2ms/step - loss: 0.0418 - accuracy: 0.9870 - auc: 0.9908 - val_loss: 1.1736 - val_accuracy: 0.9271 - val_auc: 0.5749\n",
      "Epoch 240/350\n",
      "247/247 [==============================] - 0s 2ms/step - loss: 0.0426 - accuracy: 0.9870 - auc: 0.9913 - val_loss: 1.1612 - val_accuracy: 0.9190 - val_auc: 0.5735\n",
      "Epoch 241/350\n",
      "247/247 [==============================] - 0s 2ms/step - loss: 0.0409 - accuracy: 0.9874 - auc: 0.9915 - val_loss: 1.1591 - val_accuracy: 0.9190 - val_auc: 0.5708\n",
      "Epoch 242/350\n",
      "247/247 [==============================] - 0s 2ms/step - loss: 0.0410 - accuracy: 0.9874 - auc: 0.9920 - val_loss: 1.1542 - val_accuracy: 0.9044 - val_auc: 0.5725\n",
      "Epoch 243/350\n",
      "247/247 [==============================] - 0s 2ms/step - loss: 0.0440 - accuracy: 0.9866 - auc: 0.9909 - val_loss: 1.2433 - val_accuracy: 0.9303 - val_auc: 0.5927\n",
      "Epoch 244/350\n",
      "247/247 [==============================] - 0s 2ms/step - loss: 0.0439 - accuracy: 0.9870 - auc: 0.9894 - val_loss: 1.2171 - val_accuracy: 0.9190 - val_auc: 0.5790\n",
      "Epoch 245/350\n",
      "247/247 [==============================] - 0s 2ms/step - loss: 0.0427 - accuracy: 0.9874 - auc: 0.9913 - val_loss: 1.2472 - val_accuracy: 0.9368 - val_auc: 0.5882\n",
      "Epoch 246/350\n",
      "247/247 [==============================] - 0s 2ms/step - loss: 0.0536 - accuracy: 0.9838 - auc: 0.9867 - val_loss: 1.1396 - val_accuracy: 0.9157 - val_auc: 0.5739\n",
      "Epoch 247/350\n",
      "247/247 [==============================] - 0s 2ms/step - loss: 0.0512 - accuracy: 0.9854 - auc: 0.9821 - val_loss: 1.2089 - val_accuracy: 0.9109 - val_auc: 0.5688\n",
      "Epoch 248/350\n",
      "247/247 [==============================] - 0s 2ms/step - loss: 0.0517 - accuracy: 0.9842 - auc: 0.9883 - val_loss: 1.2583 - val_accuracy: 0.9109 - val_auc: 0.5656\n",
      "Epoch 249/350\n",
      "247/247 [==============================] - 0s 2ms/step - loss: 0.0568 - accuracy: 0.9818 - auc: 0.9824 - val_loss: 1.1067 - val_accuracy: 0.9044 - val_auc: 0.5866\n",
      "Epoch 250/350\n",
      "247/247 [==============================] - 0s 2ms/step - loss: 0.0458 - accuracy: 0.9862 - auc: 0.9901 - val_loss: 1.1947 - val_accuracy: 0.9206 - val_auc: 0.5752\n",
      "Epoch 251/350\n",
      "247/247 [==============================] - 0s 2ms/step - loss: 0.0430 - accuracy: 0.9866 - auc: 0.9904 - val_loss: 1.2715 - val_accuracy: 0.9109 - val_auc: 0.5597\n",
      "Epoch 252/350\n",
      "247/247 [==============================] - 0s 2ms/step - loss: 0.0413 - accuracy: 0.9866 - auc: 0.9923 - val_loss: 1.2466 - val_accuracy: 0.9141 - val_auc: 0.5762\n",
      "Epoch 253/350\n",
      "247/247 [==============================] - 0s 2ms/step - loss: 0.0401 - accuracy: 0.9870 - auc: 0.9914 - val_loss: 1.2456 - val_accuracy: 0.9092 - val_auc: 0.5755\n",
      "Epoch 254/350\n",
      "247/247 [==============================] - 0s 2ms/step - loss: 0.0419 - accuracy: 0.9874 - auc: 0.9914 - val_loss: 1.3207 - val_accuracy: 0.9222 - val_auc: 0.5852\n",
      "Epoch 255/350\n",
      "247/247 [==============================] - 0s 2ms/step - loss: 0.0479 - accuracy: 0.9846 - auc: 0.9875 - val_loss: 1.2299 - val_accuracy: 0.9028 - val_auc: 0.5724\n",
      "Epoch 256/350\n",
      "247/247 [==============================] - 0s 2ms/step - loss: 0.0401 - accuracy: 0.9895 - auc: 0.9909 - val_loss: 1.2498 - val_accuracy: 0.9141 - val_auc: 0.5728\n",
      "Epoch 257/350\n",
      "247/247 [==============================] - 0s 2ms/step - loss: 0.0431 - accuracy: 0.9874 - auc: 0.9910 - val_loss: 1.2539 - val_accuracy: 0.9238 - val_auc: 0.5772\n",
      "Epoch 258/350\n",
      "247/247 [==============================] - 0s 2ms/step - loss: 0.0406 - accuracy: 0.9903 - auc: 0.9915 - val_loss: 1.2863 - val_accuracy: 0.9222 - val_auc: 0.5814\n",
      "Epoch 259/350\n",
      "247/247 [==============================] - 0s 2ms/step - loss: 0.0438 - accuracy: 0.9858 - auc: 0.9900 - val_loss: 1.2858 - val_accuracy: 0.9125 - val_auc: 0.5775\n",
      "Epoch 260/350\n",
      "247/247 [==============================] - 1s 2ms/step - loss: 0.0390 - accuracy: 0.9895 - auc: 0.9916 - val_loss: 1.2210 - val_accuracy: 0.9190 - val_auc: 0.5790\n",
      "Epoch 261/350\n",
      "247/247 [==============================] - 0s 2ms/step - loss: 0.0404 - accuracy: 0.9887 - auc: 0.9914 - val_loss: 1.2962 - val_accuracy: 0.9222 - val_auc: 0.5771\n",
      "Epoch 262/350\n",
      "247/247 [==============================] - 0s 2ms/step - loss: 0.0407 - accuracy: 0.9874 - auc: 0.9922 - val_loss: 1.2382 - val_accuracy: 0.9109 - val_auc: 0.5790\n",
      "Epoch 263/350\n",
      "247/247 [==============================] - 0s 2ms/step - loss: 0.0423 - accuracy: 0.9882 - auc: 0.9908 - val_loss: 1.2707 - val_accuracy: 0.9157 - val_auc: 0.5714\n",
      "Epoch 264/350\n",
      "247/247 [==============================] - 0s 2ms/step - loss: 0.0388 - accuracy: 0.9878 - auc: 0.9926 - val_loss: 1.2580 - val_accuracy: 0.9076 - val_auc: 0.5792\n",
      "Epoch 265/350\n",
      "247/247 [==============================] - 0s 2ms/step - loss: 0.0426 - accuracy: 0.9874 - auc: 0.9909 - val_loss: 1.2731 - val_accuracy: 0.8703 - val_auc: 0.5620\n",
      "Epoch 266/350\n",
      "247/247 [==============================] - 0s 2ms/step - loss: 0.0568 - accuracy: 0.9826 - auc: 0.9843 - val_loss: 1.2994 - val_accuracy: 0.9238 - val_auc: 0.5676\n",
      "Epoch 267/350\n",
      "247/247 [==============================] - 0s 2ms/step - loss: 0.0666 - accuracy: 0.9822 - auc: 0.9720 - val_loss: 1.3394 - val_accuracy: 0.9125 - val_auc: 0.5913\n",
      "Epoch 268/350\n",
      "247/247 [==============================] - 0s 2ms/step - loss: 0.0481 - accuracy: 0.9858 - auc: 0.9861 - val_loss: 1.3205 - val_accuracy: 0.9222 - val_auc: 0.5912\n",
      "Epoch 269/350\n",
      "247/247 [==============================] - 0s 2ms/step - loss: 0.0397 - accuracy: 0.9899 - auc: 0.9917 - val_loss: 1.3004 - val_accuracy: 0.9206 - val_auc: 0.5789\n",
      "Epoch 270/350\n",
      "247/247 [==============================] - 0s 2ms/step - loss: 0.0375 - accuracy: 0.9895 - auc: 0.9926 - val_loss: 1.3115 - val_accuracy: 0.9173 - val_auc: 0.5796\n",
      "Epoch 271/350\n",
      "247/247 [==============================] - 0s 2ms/step - loss: 0.0372 - accuracy: 0.9907 - auc: 0.9932 - val_loss: 1.3226 - val_accuracy: 0.9206 - val_auc: 0.5834\n",
      "Epoch 272/350\n",
      "247/247 [==============================] - 0s 2ms/step - loss: 0.0388 - accuracy: 0.9891 - auc: 0.9923 - val_loss: 1.2858 - val_accuracy: 0.9044 - val_auc: 0.5847\n",
      "Epoch 273/350\n",
      "247/247 [==============================] - 0s 2ms/step - loss: 0.0753 - accuracy: 0.9773 - auc: 0.9588 - val_loss: 1.3013 - val_accuracy: 0.8930 - val_auc: 0.5857\n",
      "Epoch 274/350\n",
      "247/247 [==============================] - 0s 2ms/step - loss: 0.0449 - accuracy: 0.9842 - auc: 0.9898 - val_loss: 1.3751 - val_accuracy: 0.9173 - val_auc: 0.5827\n",
      "Epoch 275/350\n",
      "247/247 [==============================] - 0s 2ms/step - loss: 0.0388 - accuracy: 0.9882 - auc: 0.9922 - val_loss: 1.3459 - val_accuracy: 0.9173 - val_auc: 0.5793\n",
      "Epoch 276/350\n",
      "247/247 [==============================] - 0s 2ms/step - loss: 0.0380 - accuracy: 0.9899 - auc: 0.9919 - val_loss: 1.3209 - val_accuracy: 0.9109 - val_auc: 0.5784\n",
      "Epoch 277/350\n",
      "247/247 [==============================] - 0s 2ms/step - loss: 0.0375 - accuracy: 0.9895 - auc: 0.9931 - val_loss: 1.4057 - val_accuracy: 0.9157 - val_auc: 0.5804\n",
      "Epoch 278/350\n",
      "247/247 [==============================] - 0s 2ms/step - loss: 0.0386 - accuracy: 0.9899 - auc: 0.9915 - val_loss: 1.3477 - val_accuracy: 0.9190 - val_auc: 0.5820\n",
      "Epoch 279/350\n",
      "247/247 [==============================] - 0s 2ms/step - loss: 0.0375 - accuracy: 0.9891 - auc: 0.9930 - val_loss: 1.3969 - val_accuracy: 0.9044 - val_auc: 0.5718\n",
      "Epoch 280/350\n",
      "247/247 [==============================] - 0s 2ms/step - loss: 0.0365 - accuracy: 0.9903 - auc: 0.9925 - val_loss: 1.3045 - val_accuracy: 0.9076 - val_auc: 0.5721\n",
      "Epoch 281/350\n",
      "247/247 [==============================] - 0s 2ms/step - loss: 0.0372 - accuracy: 0.9903 - auc: 0.9932 - val_loss: 1.3542 - val_accuracy: 0.9109 - val_auc: 0.5727\n",
      "Epoch 282/350\n",
      "247/247 [==============================] - 0s 2ms/step - loss: 0.0396 - accuracy: 0.9882 - auc: 0.9911 - val_loss: 1.2556 - val_accuracy: 0.9044 - val_auc: 0.5765\n",
      "Epoch 283/350\n",
      "247/247 [==============================] - 0s 2ms/step - loss: 0.0388 - accuracy: 0.9882 - auc: 0.9926 - val_loss: 1.3581 - val_accuracy: 0.9011 - val_auc: 0.5632\n",
      "Epoch 284/350\n",
      "247/247 [==============================] - 0s 2ms/step - loss: 0.0488 - accuracy: 0.9834 - auc: 0.9851 - val_loss: 1.3259 - val_accuracy: 0.9011 - val_auc: 0.5987\n",
      "Epoch 285/350\n",
      "247/247 [==============================] - 0s 2ms/step - loss: 0.0428 - accuracy: 0.9878 - auc: 0.9902 - val_loss: 1.3947 - val_accuracy: 0.9303 - val_auc: 0.5708\n",
      "Epoch 286/350\n",
      "247/247 [==============================] - 0s 2ms/step - loss: 0.0518 - accuracy: 0.9866 - auc: 0.9834 - val_loss: 1.3051 - val_accuracy: 0.9173 - val_auc: 0.5886\n",
      "Epoch 287/350\n",
      "247/247 [==============================] - 0s 2ms/step - loss: 0.0416 - accuracy: 0.9874 - auc: 0.9919 - val_loss: 1.3971 - val_accuracy: 0.9222 - val_auc: 0.5692\n",
      "Epoch 288/350\n",
      "247/247 [==============================] - 0s 2ms/step - loss: 0.0372 - accuracy: 0.9895 - auc: 0.9930 - val_loss: 1.3674 - val_accuracy: 0.9157 - val_auc: 0.5797\n",
      "Epoch 289/350\n",
      "247/247 [==============================] - 0s 2ms/step - loss: 0.0376 - accuracy: 0.9907 - auc: 0.9925 - val_loss: 1.2923 - val_accuracy: 0.9060 - val_auc: 0.5824\n",
      "Epoch 290/350\n",
      "247/247 [==============================] - 0s 2ms/step - loss: 0.0361 - accuracy: 0.9891 - auc: 0.9932 - val_loss: 1.3425 - val_accuracy: 0.9125 - val_auc: 0.5791\n",
      "Epoch 291/350\n",
      "247/247 [==============================] - 0s 2ms/step - loss: 0.0404 - accuracy: 0.9899 - auc: 0.9908 - val_loss: 1.3751 - val_accuracy: 0.9125 - val_auc: 0.5820\n",
      "Epoch 292/350\n",
      "247/247 [==============================] - 0s 2ms/step - loss: 0.0491 - accuracy: 0.9838 - auc: 0.9918 - val_loss: 1.3645 - val_accuracy: 0.9206 - val_auc: 0.5731\n",
      "Epoch 293/350\n",
      "247/247 [==============================] - 0s 2ms/step - loss: 0.0417 - accuracy: 0.9862 - auc: 0.9916 - val_loss: 1.3250 - val_accuracy: 0.9190 - val_auc: 0.5680\n",
      "Epoch 294/350\n",
      "247/247 [==============================] - 0s 2ms/step - loss: 0.0383 - accuracy: 0.9895 - auc: 0.9922 - val_loss: 1.4299 - val_accuracy: 0.9238 - val_auc: 0.5864\n",
      "Epoch 295/350\n",
      "247/247 [==============================] - 0s 2ms/step - loss: 0.0401 - accuracy: 0.9850 - auc: 0.9927 - val_loss: 1.2822 - val_accuracy: 0.9125 - val_auc: 0.5722\n",
      "Epoch 296/350\n",
      "247/247 [==============================] - 0s 2ms/step - loss: 0.0403 - accuracy: 0.9874 - auc: 0.9919 - val_loss: 1.2783 - val_accuracy: 0.9109 - val_auc: 0.5865\n",
      "Epoch 297/350\n",
      "247/247 [==============================] - 0s 2ms/step - loss: 0.0481 - accuracy: 0.9858 - auc: 0.9862 - val_loss: 1.3523 - val_accuracy: 0.9190 - val_auc: 0.5909\n",
      "Epoch 298/350\n",
      "247/247 [==============================] - 0s 2ms/step - loss: 0.0363 - accuracy: 0.9899 - auc: 0.9933 - val_loss: 1.4108 - val_accuracy: 0.9190 - val_auc: 0.5825\n",
      "Epoch 299/350\n",
      "247/247 [==============================] - 0s 2ms/step - loss: 0.0353 - accuracy: 0.9911 - auc: 0.9930 - val_loss: 1.3920 - val_accuracy: 0.9109 - val_auc: 0.5745\n",
      "Epoch 300/350\n",
      "247/247 [==============================] - 0s 2ms/step - loss: 0.0367 - accuracy: 0.9895 - auc: 0.9936 - val_loss: 1.4740 - val_accuracy: 0.9238 - val_auc: 0.5905\n",
      "Epoch 301/350\n",
      "247/247 [==============================] - 0s 2ms/step - loss: 0.0361 - accuracy: 0.9899 - auc: 0.9938 - val_loss: 1.4759 - val_accuracy: 0.9271 - val_auc: 0.5719\n",
      "Epoch 302/350\n",
      "247/247 [==============================] - 0s 2ms/step - loss: 0.0363 - accuracy: 0.9899 - auc: 0.9932 - val_loss: 1.4648 - val_accuracy: 0.9141 - val_auc: 0.5926\n",
      "Epoch 303/350\n",
      "247/247 [==============================] - 0s 2ms/step - loss: 0.0403 - accuracy: 0.9866 - auc: 0.9924 - val_loss: 1.4241 - val_accuracy: 0.9060 - val_auc: 0.5709\n",
      "Epoch 304/350\n",
      "247/247 [==============================] - 0s 2ms/step - loss: 0.0963 - accuracy: 0.9765 - auc: 0.9647 - val_loss: 1.3837 - val_accuracy: 0.8930 - val_auc: 0.5848\n",
      "Epoch 305/350\n",
      "247/247 [==============================] - 0s 2ms/step - loss: 0.0571 - accuracy: 0.9806 - auc: 0.9782 - val_loss: 1.3882 - val_accuracy: 0.9125 - val_auc: 0.5697\n",
      "Epoch 306/350\n",
      "247/247 [==============================] - 0s 2ms/step - loss: 0.0596 - accuracy: 0.9814 - auc: 0.9816 - val_loss: 1.3790 - val_accuracy: 0.9141 - val_auc: 0.5809\n",
      "Epoch 307/350\n",
      "247/247 [==============================] - 0s 2ms/step - loss: 0.0372 - accuracy: 0.9882 - auc: 0.9936 - val_loss: 1.4414 - val_accuracy: 0.9238 - val_auc: 0.5807\n",
      "Epoch 308/350\n",
      "247/247 [==============================] - 0s 2ms/step - loss: 0.0351 - accuracy: 0.9903 - auc: 0.9940 - val_loss: 1.4329 - val_accuracy: 0.9173 - val_auc: 0.5788\n",
      "Epoch 309/350\n",
      "247/247 [==============================] - 0s 2ms/step - loss: 0.0342 - accuracy: 0.9911 - auc: 0.9943 - val_loss: 1.4162 - val_accuracy: 0.9222 - val_auc: 0.5825\n",
      "Epoch 310/350\n",
      "247/247 [==============================] - 0s 2ms/step - loss: 0.0330 - accuracy: 0.9903 - auc: 0.9941 - val_loss: 1.4411 - val_accuracy: 0.9109 - val_auc: 0.5719\n",
      "Epoch 311/350\n",
      "247/247 [==============================] - 0s 2ms/step - loss: 0.0350 - accuracy: 0.9899 - auc: 0.9940 - val_loss: 1.4085 - val_accuracy: 0.9141 - val_auc: 0.5726\n",
      "Epoch 312/350\n",
      "247/247 [==============================] - 0s 2ms/step - loss: 0.0350 - accuracy: 0.9903 - auc: 0.9943 - val_loss: 1.4851 - val_accuracy: 0.9254 - val_auc: 0.5756\n",
      "Epoch 313/350\n",
      "247/247 [==============================] - 0s 2ms/step - loss: 0.0350 - accuracy: 0.9887 - auc: 0.9942 - val_loss: 1.4676 - val_accuracy: 0.9254 - val_auc: 0.5782\n",
      "Epoch 314/350\n",
      "247/247 [==============================] - 0s 2ms/step - loss: 0.0348 - accuracy: 0.9903 - auc: 0.9940 - val_loss: 1.4385 - val_accuracy: 0.9141 - val_auc: 0.5652\n",
      "Epoch 315/350\n",
      "247/247 [==============================] - 0s 2ms/step - loss: 0.0332 - accuracy: 0.9899 - auc: 0.9949 - val_loss: 1.4659 - val_accuracy: 0.8947 - val_auc: 0.5710\n",
      "Epoch 316/350\n",
      "247/247 [==============================] - 0s 2ms/step - loss: 0.0351 - accuracy: 0.9895 - auc: 0.9940 - val_loss: 1.5235 - val_accuracy: 0.9125 - val_auc: 0.5835\n",
      "Epoch 317/350\n",
      "247/247 [==============================] - 0s 2ms/step - loss: 0.0354 - accuracy: 0.9882 - auc: 0.9946 - val_loss: 1.4608 - val_accuracy: 0.9222 - val_auc: 0.5687\n",
      "Epoch 318/350\n",
      "247/247 [==============================] - 0s 2ms/step - loss: 0.0368 - accuracy: 0.9887 - auc: 0.9936 - val_loss: 1.4631 - val_accuracy: 0.8963 - val_auc: 0.5778\n",
      "Epoch 319/350\n",
      "247/247 [==============================] - 0s 2ms/step - loss: 0.0341 - accuracy: 0.9907 - auc: 0.9942 - val_loss: 1.4736 - val_accuracy: 0.9173 - val_auc: 0.5792\n",
      "Epoch 320/350\n",
      "247/247 [==============================] - 0s 2ms/step - loss: 0.0354 - accuracy: 0.9891 - auc: 0.9941 - val_loss: 1.4168 - val_accuracy: 0.9157 - val_auc: 0.5720\n",
      "Epoch 321/350\n",
      "247/247 [==============================] - 0s 2ms/step - loss: 0.0401 - accuracy: 0.9887 - auc: 0.9911 - val_loss: 1.3874 - val_accuracy: 0.9076 - val_auc: 0.5697\n",
      "Epoch 322/350\n",
      "247/247 [==============================] - 0s 2ms/step - loss: 0.0344 - accuracy: 0.9907 - auc: 0.9937 - val_loss: 1.4807 - val_accuracy: 0.8963 - val_auc: 0.5791\n",
      "Epoch 323/350\n",
      "247/247 [==============================] - 0s 2ms/step - loss: 0.0373 - accuracy: 0.9891 - auc: 0.9930 - val_loss: 1.3709 - val_accuracy: 0.8914 - val_auc: 0.5753\n",
      "Epoch 324/350\n",
      "247/247 [==============================] - 0s 2ms/step - loss: 0.0566 - accuracy: 0.9838 - auc: 0.9766 - val_loss: 1.3862 - val_accuracy: 0.9190 - val_auc: 0.5764\n",
      "Epoch 325/350\n",
      "247/247 [==============================] - 0s 2ms/step - loss: 0.0369 - accuracy: 0.9882 - auc: 0.9937 - val_loss: 1.4785 - val_accuracy: 0.9190 - val_auc: 0.5927\n",
      "Epoch 326/350\n",
      "247/247 [==============================] - 0s 2ms/step - loss: 0.0362 - accuracy: 0.9891 - auc: 0.9936 - val_loss: 1.4588 - val_accuracy: 0.9190 - val_auc: 0.5901\n",
      "Epoch 327/350\n",
      "247/247 [==============================] - 0s 2ms/step - loss: 0.0334 - accuracy: 0.9895 - auc: 0.9942 - val_loss: 1.4548 - val_accuracy: 0.9206 - val_auc: 0.5785\n",
      "Epoch 328/350\n",
      "247/247 [==============================] - 0s 2ms/step - loss: 0.0354 - accuracy: 0.9882 - auc: 0.9939 - val_loss: 1.4684 - val_accuracy: 0.9190 - val_auc: 0.5725\n",
      "Epoch 329/350\n",
      "247/247 [==============================] - 0s 2ms/step - loss: 0.0339 - accuracy: 0.9899 - auc: 0.9937 - val_loss: 1.4677 - val_accuracy: 0.9173 - val_auc: 0.5634\n",
      "Epoch 330/350\n",
      "247/247 [==============================] - 0s 2ms/step - loss: 0.0558 - accuracy: 0.9826 - auc: 0.9878 - val_loss: 1.4868 - val_accuracy: 0.8995 - val_auc: 0.5602\n",
      "Epoch 331/350\n",
      "247/247 [==============================] - 0s 2ms/step - loss: 0.0420 - accuracy: 0.9858 - auc: 0.9919 - val_loss: 1.4603 - val_accuracy: 0.8898 - val_auc: 0.5519\n",
      "Epoch 332/350\n",
      "247/247 [==============================] - 0s 2ms/step - loss: 0.0556 - accuracy: 0.9838 - auc: 0.9849 - val_loss: 1.4288 - val_accuracy: 0.9092 - val_auc: 0.5648\n",
      "Epoch 333/350\n",
      "247/247 [==============================] - 0s 2ms/step - loss: 0.0417 - accuracy: 0.9858 - auc: 0.9915 - val_loss: 1.4767 - val_accuracy: 0.9125 - val_auc: 0.5602\n",
      "Epoch 334/350\n",
      "247/247 [==============================] - 0s 2ms/step - loss: 0.0334 - accuracy: 0.9895 - auc: 0.9943 - val_loss: 1.5026 - val_accuracy: 0.9076 - val_auc: 0.5767\n",
      "Epoch 335/350\n",
      "247/247 [==============================] - 0s 2ms/step - loss: 0.0324 - accuracy: 0.9915 - auc: 0.9946 - val_loss: 1.5122 - val_accuracy: 0.9109 - val_auc: 0.5737\n",
      "Epoch 336/350\n",
      "247/247 [==============================] - 0s 2ms/step - loss: 0.0321 - accuracy: 0.9915 - auc: 0.9937 - val_loss: 1.5333 - val_accuracy: 0.9222 - val_auc: 0.5667\n",
      "Epoch 337/350\n",
      "247/247 [==============================] - 0s 2ms/step - loss: 0.0383 - accuracy: 0.9866 - auc: 0.9927 - val_loss: 1.5755 - val_accuracy: 0.9206 - val_auc: 0.5798\n",
      "Epoch 338/350\n",
      "247/247 [==============================] - 0s 2ms/step - loss: 0.0328 - accuracy: 0.9899 - auc: 0.9952 - val_loss: 1.5185 - val_accuracy: 0.9011 - val_auc: 0.5653\n",
      "Epoch 339/350\n",
      "247/247 [==============================] - 0s 2ms/step - loss: 0.0529 - accuracy: 0.9810 - auc: 0.9824 - val_loss: 1.4612 - val_accuracy: 0.8963 - val_auc: 0.5738\n",
      "Epoch 340/350\n",
      "247/247 [==============================] - 0s 2ms/step - loss: 0.0360 - accuracy: 0.9895 - auc: 0.9923 - val_loss: 1.4199 - val_accuracy: 0.9092 - val_auc: 0.5970\n",
      "Epoch 341/350\n",
      "247/247 [==============================] - 0s 2ms/step - loss: 0.0359 - accuracy: 0.9907 - auc: 0.9938 - val_loss: 1.4462 - val_accuracy: 0.9173 - val_auc: 0.5868\n",
      "Epoch 342/350\n",
      "247/247 [==============================] - 0s 2ms/step - loss: 0.0322 - accuracy: 0.9911 - auc: 0.9941 - val_loss: 1.4208 - val_accuracy: 0.9125 - val_auc: 0.5922\n",
      "Epoch 343/350\n",
      "247/247 [==============================] - 0s 2ms/step - loss: 0.0311 - accuracy: 0.9923 - auc: 0.9948 - val_loss: 1.4280 - val_accuracy: 0.9109 - val_auc: 0.6029\n",
      "Epoch 344/350\n",
      "247/247 [==============================] - 0s 2ms/step - loss: 0.0321 - accuracy: 0.9907 - auc: 0.9951 - val_loss: 1.4828 - val_accuracy: 0.9206 - val_auc: 0.5874\n",
      "Epoch 345/350\n",
      "247/247 [==============================] - 0s 2ms/step - loss: 0.0324 - accuracy: 0.9895 - auc: 0.9952 - val_loss: 1.4107 - val_accuracy: 0.9109 - val_auc: 0.5918\n",
      "Epoch 346/350\n",
      "247/247 [==============================] - 0s 2ms/step - loss: 0.0365 - accuracy: 0.9891 - auc: 0.9935 - val_loss: 1.4354 - val_accuracy: 0.9157 - val_auc: 0.5698\n",
      "Epoch 347/350\n",
      "247/247 [==============================] - 0s 2ms/step - loss: 0.0322 - accuracy: 0.9915 - auc: 0.9941 - val_loss: 1.4663 - val_accuracy: 0.9206 - val_auc: 0.5830\n",
      "Epoch 348/350\n",
      "247/247 [==============================] - 0s 2ms/step - loss: 0.0308 - accuracy: 0.9915 - auc: 0.9945 - val_loss: 1.5394 - val_accuracy: 0.9028 - val_auc: 0.5977\n",
      "Epoch 349/350\n",
      "247/247 [==============================] - 0s 2ms/step - loss: 0.0333 - accuracy: 0.9903 - auc: 0.9946 - val_loss: 1.4236 - val_accuracy: 0.9190 - val_auc: 0.5776\n",
      "Epoch 350/350\n",
      "247/247 [==============================] - 0s 2ms/step - loss: 0.0486 - accuracy: 0.9842 - auc: 0.9859 - val_loss: 1.2262 - val_accuracy: 0.9157 - val_auc: 0.5724\n"
     ]
    },
    {
     "data": {
      "text/plain": [
       "<keras.callbacks.History at 0x1570b9970>"
      ]
     },
     "execution_count": 360,
     "metadata": {},
     "output_type": "execute_result"
    }
   ],
   "source": [
    "model.fit(X_train, y_train, \n",
    "          epochs=350, \n",
    "          batch_size=10,\n",
    "        validation_data=(X_val,y_val))"
   ]
  },
  {
   "cell_type": "markdown",
   "id": "39b481b6-d6f8-4d31-9232-a98da9f1bec8",
   "metadata": {},
   "source": [
    "## Evaluate Model"
   ]
  },
  {
   "cell_type": "code",
   "execution_count": 361,
   "id": "d1560f14-55c6-4df0-a843-56595fd8ec62",
   "metadata": {},
   "outputs": [
    {
     "name": "stdout",
     "output_type": "stream",
     "text": [
      "97/97 [==============================] - 0s 1ms/step - loss: 0.5048 - accuracy: 0.9358 - auc: 0.7715\n",
      "Accuracy: 93.58\n",
      "AUC: 0.77\n"
     ]
    }
   ],
   "source": [
    "X,y = split(train)\n",
    "\n",
    "_, accuracy,auc = model.evaluate(X, y)\n",
    "print('Accuracy: %.2f' % (accuracy*100))\n",
    "print('AUC: %.2f' % (auc))"
   ]
  },
  {
   "cell_type": "code",
   "execution_count": 342,
   "id": "0a9e44e6-9d3d-4a58-a7d5-9e7a26744347",
   "metadata": {},
   "outputs": [
    {
     "name": "stdout",
     "output_type": "stream",
     "text": [
      "97/97 [==============================] - 0s 995us/step - loss: 0.1694 - accuracy: 0.9611 - auc: 0.8531\n",
      "Accuracy: 96.11\n",
      "AUC: 0.85\n"
     ]
    }
   ],
   "source": [
    "X,y = split(train)\n",
    "\n",
    "_, accuracy,auc = model.evaluate(X, y)\n",
    "print('Accuracy: %.2f' % (accuracy*100))\n",
    "print('AUC: %.2f' % (auc))"
   ]
  },
  {
   "cell_type": "code",
   "execution_count": 318,
   "id": "4c0adb78-c150-4a46-86f6-3c0b47b4c2ba",
   "metadata": {},
   "outputs": [
    {
     "data": {
      "text/plain": [
       "<tf.Tensor: shape=(), dtype=float32, numpy=0.993587>"
      ]
     },
     "execution_count": 318,
     "metadata": {},
     "output_type": "execute_result"
    }
   ],
   "source": [
    "model.metrics[2].result()"
   ]
  },
  {
   "cell_type": "markdown",
   "id": "4dcbe59f-084a-4f41-8ec2-34d61a5f34c1",
   "metadata": {},
   "source": [
    "### ROC curves\n",
    "There are several ROC curves below by decreasing versions of the model.  The first one is the latest."
   ]
  },
  {
   "cell_type": "code",
   "execution_count": 453,
   "id": "9bc1e79b-688f-491d-96c7-115297a5800e",
   "metadata": {},
   "outputs": [
    {
     "name": "stdout",
     "output_type": "stream",
     "text": [
      "20/20 [==============================] - 0s 2ms/step\n"
     ]
    },
    {
     "data": {
      "image/png": "[encoded data removed]",
      "text/plain": [
       "<Figure size 432x288 with 1 Axes>"
      ]
     },
     "metadata": {
      "needs_background": "light"
     },
     "output_type": "display_data"
    }
   ],
   "source": [
    "\n",
    "# pilfered from https://medium.com/hackernoon/simple-guide-on-how-to-generate-roc-plot-for-keras-classifier-2ecc6c73115a\n",
    "\n",
    "\n",
    "\n",
    "from sklearn.metrics import roc_curve\n",
    "y_pred_keras = model.predict(X_val).ravel()\n",
    "fpr_keras, tpr_keras, thresholds_keras = roc_curve(y_val, y_pred_keras)\n",
    "from sklearn.metrics import auc\n",
    "auc_keras = auc(fpr_keras, tpr_keras)\n",
    "\n",
    "\n",
    "import matplotlib.pyplot as plt\n",
    "plt.figure(1)\n",
    "plt.plot([0, 1], [0, 1], 'k--')\n",
    "plt.plot(fpr_keras, tpr_keras, label='Keras (area = {:.3f})'.format(auc_keras))\n",
    "plt.xlabel('False positive rate')\n",
    "plt.ylabel('True positive rate')\n",
    "plt.title('ROC curve')\n",
    "plt.legend(loc='best')\n",
    "plt.show()\n"
   ]
  },
  {
   "cell_type": "code",
   "execution_count": 343,
   "id": "1f7e8208-cfab-4208-b736-2000250a8df6",
   "metadata": {},
   "outputs": [
    {
     "name": "stdout",
     "output_type": "stream",
     "text": [
      "20/20 [==============================] - 0s 910us/step\n"
     ]
    },
    {
     "data": {
      "image/png": "[encoded data removed]",
      "text/plain": [
       "<Figure size 432x288 with 1 Axes>"
      ]
     },
     "metadata": {
      "needs_background": "light"
     },
     "output_type": "display_data"
    }
   ],
   "source": [
    "# pilfered from https://medium.com/hackernoon/simple-guide-on-how-to-generate-roc-plot-for-keras-classifier-2ecc6c73115a\n",
    "\n",
    "\n",
    "\n",
    "from sklearn.metrics import roc_curve\n",
    "y_pred_keras = model.predict(X_val).ravel()\n",
    "fpr_keras, tpr_keras, thresholds_keras = roc_curve(y_val, y_pred_keras)\n",
    "from sklearn.metrics import auc\n",
    "auc_keras = auc(fpr_keras, tpr_keras)\n",
    "\n",
    "\n",
    "import matplotlib.pyplot as plt\n",
    "plt.figure(1)\n",
    "plt.plot([0, 1], [0, 1], 'k--')\n",
    "plt.plot(fpr_keras, tpr_keras, label='Keras (area = {:.3f})'.format(auc_keras))\n",
    "plt.xlabel('False positive rate')\n",
    "plt.ylabel('True positive rate')\n",
    "plt.title('ROC curve')\n",
    "plt.legend(loc='best')\n",
    "plt.show()\n"
   ]
  },
  {
   "cell_type": "code",
   "execution_count": 362,
   "id": "26d497ec-f1d7-49f5-b34b-f70cc3b4e740",
   "metadata": {},
   "outputs": [
    {
     "name": "stdout",
     "output_type": "stream",
     "text": [
      "20/20 [==============================] - 0s 793us/step\n"
     ]
    },
    {
     "data": {
      "image/png": "[encoded data removed]",
      "text/plain": [
       "<Figure size 432x288 with 1 Axes>"
      ]
     },
     "metadata": {
      "needs_background": "light"
     },
     "output_type": "display_data"
    }
   ],
   "source": [
    "# pilfered from https://medium.com/hackernoon/simple-guide-on-how-to-generate-roc-plot-for-keras-classifier-2ecc6c73115a\n",
    "\n",
    "\n",
    "\n",
    "from sklearn.metrics import roc_curve\n",
    "y_pred_keras = model.predict(X_val).ravel()\n",
    "fpr_keras, tpr_keras, thresholds_keras = roc_curve(y_val, y_pred_keras)\n",
    "from sklearn.metrics import auc\n",
    "auc_keras = auc(fpr_keras, tpr_keras)\n",
    "\n",
    "\n",
    "import matplotlib.pyplot as plt\n",
    "plt.figure(1)\n",
    "plt.plot([0, 1], [0, 1], 'k--')\n",
    "plt.plot(fpr_keras, tpr_keras, label='Keras (area = {:.3f})'.format(auc_keras))\n",
    "plt.xlabel('False positive rate')\n",
    "plt.ylabel('True positive rate')\n",
    "plt.title('ROC curve')\n",
    "plt.legend(loc='best')\n",
    "plt.show()\n"
   ]
  },
  {
   "cell_type": "markdown",
   "id": "72aef103-f933-4848-80e9-969aeecdc869",
   "metadata": {},
   "source": [
    "This ROC curve looks pretty good, but it turns out that i didn't explicitly define valudation set when fitting the model.  So it was overfit."
   ]
  },
  {
   "cell_type": "code",
   "execution_count": 366,
   "id": "f2704400-486d-44c2-82bf-0d21d07acd06",
   "metadata": {},
   "outputs": [
    {
     "name": "stdout",
     "output_type": "stream",
     "text": [
      "7/7 [==============================] - 0s 945us/step\n"
     ]
    },
    {
     "data": {
      "image/png": "[encoded data removed]",
      "text/plain": [
       "<Figure size 432x288 with 1 Axes>"
      ]
     },
     "metadata": {
      "needs_background": "light"
     },
     "output_type": "display_data"
    }
   ],
   "source": [
    "\n",
    "# pilfered from https://medium.com/hackernoon/simple-guide-on-how-to-generate-roc-plot-for-keras-classifier-2ecc6c73115a\n",
    "\n",
    "\n",
    "\n",
    "from sklearn.metrics import roc_curve\n",
    "y_pred_keras = model.predict(X_val).ravel()\n",
    "fpr_keras, tpr_keras, thresholds_keras = roc_curve(y_val, y_pred_keras)\n",
    "from sklearn.metrics import auc\n",
    "auc_keras = auc(fpr_keras, tpr_keras)\n",
    "\n",
    "\n",
    "import matplotlib.pyplot as plt\n",
    "plt.figure(1)\n",
    "plt.plot([0, 1], [0, 1], 'k--')\n",
    "plt.plot(fpr_keras, tpr_keras, label='Keras (area = {:.3f})'.format(auc_keras))\n",
    "plt.xlabel('False positive rate')\n",
    "plt.ylabel('True positive rate')\n",
    "plt.title('ROC curve')\n",
    "plt.legend(loc='best')\n",
    "plt.show()\n"
   ]
  },
  {
   "cell_type": "markdown",
   "id": "85b72880-64c9-4ec9-95fd-9ff1f74e459f",
   "metadata": {},
   "source": [
    "Since the real live data is predomanantly negative outcome (no-whislte). I tried flipping the meaning of the outcome,  negative means a whistle.  looks flipped, I was expecting something else."
   ]
  },
  {
   "cell_type": "code",
   "execution_count": 350,
   "id": "2c2ea9c6-7bb2-4ea0-a95a-9cc94bdf7d78",
   "metadata": {},
   "outputs": [
    {
     "name": "stdout",
     "output_type": "stream",
     "text": [
      "7/7 [==============================] - 0s 907us/step\n"
     ]
    },
    {
     "data": {
      "image/png": "[encoded data removed]",
      "text/plain": [
       "<Figure size 432x288 with 1 Axes>"
      ]
     },
     "metadata": {
      "needs_background": "light"
     },
     "output_type": "display_data"
    }
   ],
   "source": [
    "# The trainig dataset is imbalanced, 56 positive examples out of 1064\n",
    "# Positives are not a majority.  But flipping the labels just seems to transpose the ROC Curve, as in the example below\n"
   ]
  },
  {
   "cell_type": "markdown",
   "id": "fa976ec4-e963-4bb3-b2db-8150a26eedd9",
   "metadata": {},
   "source": [
    "The trainig dataset is imbalanced, 56 positive examples out of 1064\n",
    "Positives are not a majority.  But flipping the labels just seems to transpose the ROC Curve"
   ]
  },
  {
   "cell_type": "markdown",
   "id": "e90c9c5f-8bf9-47e0-b707-c3908ffdacc3",
   "metadata": {},
   "source": [
    "## Save Model"
   ]
  },
  {
   "cell_type": "code",
   "execution_count": 364,
   "id": "2356350b-ce29-4f6c-a680-5d8aae146db9",
   "metadata": {},
   "outputs": [
    {
     "name": "stdout",
     "output_type": "stream",
     "text": [
      "INFO:tensorflow:Assets written to: model_ffn_202272511446/assets\n"
     ]
    }
   ],
   "source": [
    "import datetime\n",
    "\n",
    "a=datetime.datetime.now()\n",
    "a.month\n",
    "\n",
    "model.save(model_file_prefix + f\"{a.year}{a.month}{a.day}{a.hour}{a.minute}{a.second})"
   ]
  },
  {
   "cell_type": "code",
   "execution_count": 345,
   "id": "c903c3d7-75c2-4c71-8759-29725f9e682a",
   "metadata": {},
   "outputs": [
    {
     "name": "stdout",
     "output_type": "stream",
     "text": [
      "97/97 [==============================] - 0s 731us/step\n"
     ]
    },
    {
     "data": {
      "text/plain": [
       "array([[4.04854376e-07],\n",
       "       [1.98015198e-02],\n",
       "       [2.84850714e-04],\n",
       "       [6.38600686e-05],\n",
       "       [1.45441061e-03],\n",
       "       [1.78738739e-02],\n",
       "       [7.65586813e-12],\n",
       "       [1.01092435e-01],\n",
       "       [5.80119677e-02]], dtype=float32)"
      ]
     },
     "execution_count": 345,
     "metadata": {},
     "output_type": "execute_result"
    }
   ],
   "source": [
    "predictions = model.predict(X)\n",
    "predictions[:9]"
   ]
  },
  {
   "cell_type": "markdown",
   "id": "3bf5b4a0-4eb7-4c93-ac66-8263afed285a",
   "metadata": {},
   "source": [
    "# Inference\n",
    "\n",
    "you'll need to provide 1 or more inference tensors.  Each tensor comes from feature extraction from single video file.  Run the cells manually.\n",
    "\n",
    "If you have a ground truth file, you can output a confusion matrix.\n",
    "\n"
   ]
  },
  {
   "cell_type": "markdown",
   "id": "8d1812dd-0795-4d3f-a437-d4e2fab72e4c",
   "metadata": {},
   "source": [
    "### Example 1 "
   ]
  },
  {
   "cell_type": "code",
   "execution_count": 259,
   "id": "cf04aebe-c7e3-4c3d-bf0b-470070b602de",
   "metadata": {},
   "outputs": [],
   "source": [
    "nvr_seen = np.load(\"5U5A9282_swin_47_95.npy\")"
   ]
  },
  {
   "cell_type": "code",
   "execution_count": 260,
   "id": "5ace379c-3fd2-469f-bd29-6fe803fd4184",
   "metadata": {},
   "outputs": [
    {
     "name": "stdout",
     "output_type": "stream",
     "text": [
      "11/11 [==============================] - 0s 1ms/step\n"
     ]
    }
   ],
   "source": [
    "predictions2 = model.predict(nvr_seen)"
   ]
  },
  {
   "cell_type": "code",
   "execution_count": 242,
   "id": "83953c2b-c0d3-4436-ba3c-0fc4b809d80e",
   "metadata": {},
   "outputs": [
    {
     "data": {
      "text/plain": [
       "329"
      ]
     },
     "execution_count": 242,
     "metadata": {},
     "output_type": "execute_result"
    }
   ],
   "source": [
    "len(predictions2)"
   ]
  },
  {
   "cell_type": "code",
   "execution_count": 356,
   "id": "068e048c-d588-405e-9979-15592270e07d",
   "metadata": {},
   "outputs": [
    {
     "data": {
      "text/plain": [
       "array([[1.3032930e-01],\n",
       "       [0.0000000e+00],\n",
       "       [0.0000000e+00],\n",
       "       [1.2768137e-04],\n",
       "       [6.9129863e-10],\n",
       "       [4.0030565e-15],\n",
       "       [5.8255787e-34],\n",
       "       [6.5571704e-09],\n",
       "       [2.7564884e-05],\n",
       "       [9.1419935e-07]], dtype=float32)"
      ]
     },
     "execution_count": 356,
     "metadata": {},
     "output_type": "execute_result"
    }
   ],
   "source": [
    "predictions2[:10]\n"
   ]
  },
  {
   "cell_type": "code",
   "execution_count": 425,
   "id": "a1dfd260-5117-497e-b4a6-bc25447469e5",
   "metadata": {},
   "outputs": [],
   "source": [
    "import math\n",
    "import functools\n",
    "threshold = 0.6\n",
    "\n",
    "sr= 44100/2\n",
    "frame_size_seconds=0.7\n",
    "frame_length=frame_size_seconds * sr\n",
    "hop_in_window_divisions = 2\n",
    "hop_length=frame_size_seconds / hop_in_window_divisions * sr\n",
    "frame_length_c=math.ceil(frame_length)\n",
    "frame_length= frame_length_c\n",
    "hop_length=math.floor(frame_length_c / hop_in_window_divisions)\n",
    "\n",
    "\n",
    "def positive_frames_to_secs( predictions, threshold):\n",
    "    time = 0\n",
    "    results = []\n",
    "    last_time = -1 \n",
    "    for i in predictions:\n",
    "        if i > threshold:\n",
    "            seconds = math.floor(time / sr * 1000) /1000\n",
    "            results.append(seconds)\n",
    "        time = time + hop_length\n",
    "    return results\n",
    "\n",
    "def secs_to_min_secmillis(secs):\n",
    "    if secs <= 60:\n",
    "        res = f\"{secs:.5}\"\n",
    "    else:\n",
    "        seconds = (secs)%60\n",
    "        res = f\"{math.floor(secs/60)}:{math.floor(seconds):02}.{math.floor(1000*(seconds - math.floor(seconds))):03}\"\n",
    "    return res\n",
    "\n",
    "def smooth(x,y):\n",
    "    if len(x) > 0:\n",
    "        prior = x[-1]\n",
    "        if y - prior < frame_length / sr:\n",
    "            # print(f\"Tossing {y} {secs_to_min_secmillis(y)} got prior {prior} {secs_to_min_secmillis(prior)} {y - prior} within frame_length {frame_length / sr}\")\n",
    "            pass\n",
    "        else:\n",
    "            x.append(y)\n",
    "    else:\n",
    "        x.append(y)\n",
    "    return x\n",
    "        \n",
    "def write_times(results, name):\n",
    "    with open(f\"{name}.whistle\",\"a\") as f:\n",
    "        for i in results:\n",
    "            f.write(i)\n",
    "            f.write(\"\\n\")\n",
    "            # print(i)\n",
    "    f.close()\n",
    "    \n",
    "def write_positives_to_file(predictions,positive_threshold,filename):\n",
    "    a = [secs_to_min_secmillis(i) for i in functools.reduce(smooth,positive_frames_to_secs(predictions, positive_threshold),[])]\n",
    "    write_times(a,filename)\n",
    "    return a\n",
    "\n",
    "def secs_frames(ground_truth_secs):\n",
    "    pass\n",
    "    \n",
    "def prep_for_confusion(ground_truth_frames, predictions_frames):\n",
    "    pass\n",
    "\n",
    "def generate_m3u(name,secs,extension=\"MOV\",label=None):\n",
    "    track = [ \"One\", \"Two\", \"Three\", \"Four\", \"Five\", \"Six\", \"Seven\", \"Eight\", \"Nine\", \"Ten\", \"Eleven\", \"Twelve\", \"Thirteen\", \"Fourteen\", \"Fifteen\", \"Sixteen\", \"Seventeen\", \"Eighteen\", \"Nineteen\", \"Twenty\",\"Twenty One\", \"Twenty Two\", \"Twenty Three\", \"Twenty Four\", \"Twenty Five\", \"Twenty Six\", \"Twenty Seven\", \"Twenty Eight\", \"Twenty Nine\", \"...\" ] \n",
    "    bookmark_tmp = \"{name=Omi,time=100}\"\n",
    "    a = \"\"\"\n",
    "#EXTM3U\n",
    "#EXTINF:115,NAME.MOV\n",
    "#EXTVLCOPT:bookmarks=BOOKMARKS\n",
    "NAME.MOV\n",
    "\"\"\"\n",
    "    bookmarks = \"\"\n",
    "    count = 0\n",
    "    for i in secs:\n",
    "        tmp = (\",\" if count > 0 else \"\") + str(bookmark_tmp)\n",
    "        title = track[count] if count < len(track) -1 else track[-1]\n",
    "        \n",
    "        if label is not None:\n",
    "            title = title + \" \" + label[count]\n",
    "        \n",
    "        bookmarks = bookmarks + tmp.replace(\"Omi\", title).replace(\"100\",str(f'{i:0.3f}'))\n",
    "        count = count + 1\n",
    "        #print(bookmarks)\n",
    "        #print(i)\n",
    "    a = a.replace(\"BOOKMARKS\",bookmarks)\n",
    "    a = a.replace(\"NAME\",name)\n",
    "    a = a.replace(\"MOV\",extension)\n",
    "\n",
    "\n",
    "    return a\n",
    "\n",
    "def write_m3u(name,contents):\n",
    "    with open(f\"{name}.m3u\",\"a\") as f:\n",
    "        f.write(contents)\n",
    "    f.close()\n",
    "    "
   ]
  },
  {
   "cell_type": "markdown",
   "id": "d7b1f8f0-ce42-447e-914c-d7f57d0066fc",
   "metadata": {},
   "source": [
    "### Create Playlist"
   ]
  },
  {
   "cell_type": "code",
   "execution_count": 415,
   "id": "e524d99b-63be-4c87-930d-e8d3efcd45d0",
   "metadata": {},
   "outputs": [],
   "source": [
    "\n",
    "write_m3u(\"5u5a9273\",generate_m3u(\"5u5a9273\",[i for i in functools.reduce(smooth,positive_frames_to_secs(predictions,.5),[])]))"
   ]
  },
  {
   "cell_type": "markdown",
   "id": "f03ccbb2-28ff-41b8-b23a-6ea131fbb713",
   "metadata": {},
   "source": [
    "### Create Whistle File"
   ]
  },
  {
   "cell_type": "code",
   "execution_count": null,
   "id": "db3337c8-5951-4010-bd17-5bdbcf6c66b4",
   "metadata": {},
   "outputs": [],
   "source": [
    "n=\"5u5a9273\"\n",
    "write_positives_to_file(predictions,.8,n+\"_0.1\")\n"
   ]
  },
  {
   "cell_type": "markdown",
   "id": "eeb32580-9bb8-4f4b-a8c4-8683c255ca1f",
   "metadata": {},
   "source": [
    "### Example 2\n"
   ]
  },
  {
   "cell_type": "code",
   "execution_count": 440,
   "id": "f725a9a9-8353-4c3c-9eb9-c6804ebf84a7",
   "metadata": {},
   "outputs": [],
   "source": [
    "n=\"5u5a9282\"\n",
    "nvr_seen = np.load(n + \"_swin_47_95.npy\")\n",
    "predictions3 = model.predict(nvr_seen)"
   ]
  },
  {
   "cell_type": "code",
   "execution_count": 451,
   "id": "2a84bb4d-f098-4f3d-9ff6-c1afb44bc1f5",
   "metadata": {},
   "outputs": [],
   "source": [
    "write_m3u(\"5u5a9282\",generate_m3u(\"5u5a9282\",[i for i in functools.reduce(smooth,positive_frames_to_secs(predictions2,.5),[])]))"
   ]
  },
  {
   "cell_type": "code",
   "execution_count": 311,
   "id": "97a5f705-ebbe-40db-8c61-8156f027cb9a",
   "metadata": {},
   "outputs": [
    {
     "name": "stdout",
     "output_type": "stream",
     "text": [
      "Tossing 17.148 17.148 got prior 16.798 16.798 0.3500000000000014 within frame_length 0.7\n",
      "Thus in binary classification, the count of true negatives is \n",
      "C0,0, false negatives is C1,0, true positives is \n",
      "C1,1 and false positives is C0,1 \n"
     ]
    },
    {
     "data": {
      "text/plain": [
       "array([[322,   1],\n",
       "       [  3,   3]])"
      ]
     },
     "execution_count": 311,
     "metadata": {},
     "output_type": "execute_result"
    }
   ],
   "source": [
    "smooth_confusion_matrix(predictions2, \"5u5a9282_.ground_truth.txt\", positive_threshold=.6, frame_threshold=2)"
   ]
  },
  {
   "cell_type": "markdown",
   "id": "b2a6d01b-77b3-4678-8e73-1e5ae80596ea",
   "metadata": {},
   "source": [
    "### More Examples"
   ]
  },
  {
   "cell_type": "code",
   "execution_count": 440,
   "id": "350a171c-f48c-45e4-a176-74b2b6e7c1df",
   "metadata": {},
   "outputs": [
    {
     "name": "stdout",
     "output_type": "stream",
     "text": [
      "11/11 [==============================] - 0s 934us/step\n",
      "Thus in binary classification, the count of true negatives is \n",
      "C0,0, false negatives is C1,0, true positives is \n",
      "C1,1 and false positives is C0,1 \n"
     ]
    },
    {
     "data": {
      "text/plain": [
       "array([[317,   6],\n",
       "       [  1,   5]])"
      ]
     },
     "execution_count": 440,
     "metadata": {},
     "output_type": "execute_result"
    }
   ],
   "source": [
    "\n",
    "ngt =  n+\"_0.groundtruth.whistle.txt\"\n",
    "smooth_confusion_matrix(predictions3, ngt, positive_threshold=.6, frame_threshold=2)\n",
    "\n",
    "#smooth_confusion_matrix(predictions2, \"5u5a9282_.ground_truth.txt\", positive_threshold=.6, frame_threshold=2)"
   ]
  },
  {
   "cell_type": "markdown",
   "id": "7c1e3a02-74d1-4a25-952f-b662acb3711a",
   "metadata": {},
   "source": [
    "### sj = np.array(smooth_join(predictions3,ground_truth=ngt, positive_threshold=.5,frame_threshold=2))\n",
    "\n",
    "# Here we write m3u with TP / FP / FN Labels\n",
    "secs = [i-0.5 for i in sj[:,0].astype(float)]\n",
    "labels =[i[:2] for i in sj[:,1]]\n",
    "\n",
    "write_m3u(n+\".3\",generate_m3u(n,secs=secs,label=labels))"
   ]
  },
  {
   "cell_type": "code",
   "execution_count": 408,
   "id": "65ce5c84-deff-459d-8561-1be41274fb13",
   "metadata": {},
   "outputs": [
    {
     "data": {
      "text/plain": [
       "['16.799', '35.698', '1:04.045', '1:33.443', '1:40.443']"
      ]
     },
     "execution_count": 408,
     "metadata": {},
     "output_type": "execute_result"
    }
   ],
   "source": [
    "[secs_to_min_secmillis(i) for i in functools.reduce(smooth,positive_frames_to_secs(predictions2,.5),[])]"
   ]
  },
  {
   "cell_type": "code",
   "execution_count": 158,
   "id": "12e25698-6794-42db-b374-0bb58c4c7090",
   "metadata": {},
   "outputs": [],
   "source": [
    "write_times(predict(.6,predictions2),\"5u5a9282_0.6\")"
   ]
  },
  {
   "cell_type": "code",
   "execution_count": 228,
   "id": "ad194119-ee38-4237-a32f-ae6e1c5abc41",
   "metadata": {},
   "outputs": [],
   "source": [
    "write_positives_to_file(predictions2,.1,\"5u5a9282_0.1\")"
   ]
  },
  {
   "cell_type": "code",
   "execution_count": 418,
   "id": "743eb49e-2de9-4cdb-bdf4-46c497883a01",
   "metadata": {},
   "outputs": [
    {
     "name": "stdout",
     "output_type": "stream",
     "text": [
      "8/8 [==============================] - 0s 890us/step\n"
     ]
    }
   ],
   "source": [
    "n = \"5U5A9275\"\n",
    "nvr_seen = np.load(n + \"_swin_47_95.npy\")\n",
    "predictions3 = model.predict(nvr_seen)\n",
    "write_m3u(n,generate_m3u(n,[i for i in functools.reduce(smooth,positive_frames_to_secs(predictions3,.5),[])]))\n",
    "write_positives_to_file(predictions3,.1,n+\"_0.1\")"
   ]
  },
  {
   "cell_type": "code",
   "execution_count": 419,
   "id": "041f5149-58e3-4973-be74-14c34bd6eace",
   "metadata": {},
   "outputs": [
    {
     "name": "stdout",
     "output_type": "stream",
     "text": [
      "7/7 [==============================] - 0s 1ms/step\n"
     ]
    }
   ],
   "source": [
    "n = \"5U5A9278\"\n",
    "nvr_seen = np.load(n + \"_swin_47_95.npy\")\n",
    "predictions3 = model.predict(nvr_seen)\n",
    "write_m3u(n,generate_m3u(n,[i for i in functools.reduce(smooth,positive_frames_to_secs(predictions3,.5),[])]))\n",
    "write_positives_to_file(predictions3,.1,n+\"_0.1\")"
   ]
  },
  {
   "cell_type": "code",
   "execution_count": 422,
   "id": "d7708eff-6788-4524-a070-a631fc642634",
   "metadata": {},
   "outputs": [
    {
     "name": "stdout",
     "output_type": "stream",
     "text": [
      "5/5 [==============================] - 0s 1ms/step\n"
     ]
    }
   ],
   "source": [
    "n = \"IMG_2398\"\n",
    "nvr_seen = np.load(n + \"_swin_47_95.npy\")\n",
    "predictions3 = model.predict(nvr_seen)\n",
    "write_m3u(n,generate_m3u(n,[i for i in functools.reduce(smooth,positive_frames_to_secs(predictions3,.1),[])]))\n",
    "write_positives_to_file(predictions3,.1,n+\"_0.1\")"
   ]
  },
  {
   "cell_type": "code",
   "execution_count": 287,
   "id": "3c24f505-97c3-4719-8a83-d451d5bf6ffe",
   "metadata": {},
   "outputs": [
    {
     "name": "stdout",
     "output_type": "stream",
     "text": [
      "44/44 [==============================] - 0s 721us/step\n",
      "Tossing 21.698 21.698 got prior 20.998 20.998 0.6999999999999993 within frame_length 0.7\n",
      "Tossing 464.069 7:44.069 got prior 463.719 7:43.718 0.35000000000002274 within frame_length 0.7\n",
      "Thus in binary classification, the count of true negatives is \n",
      "C0,0, false negatives is C1,0, true positives is \n",
      "C1,1 and false positives is C0,1 \n"
     ]
    },
    {
     "data": {
      "text/plain": [
       "array([[1355,   14],\n",
       "       [  24,   14]])"
      ]
     },
     "execution_count": 287,
     "metadata": {},
     "output_type": "execute_result"
    }
   ],
   "source": [
    "n=\"IMG_2365\"\n",
    "nvr_seen = np.load(n + \"_swin_47_95.npy\")\n",
    "predictions3 = model.predict(nvr_seen)\n",
    "\n",
    "smooth_confusion_matrix(predictions3, n+\"_0.groundtruth.whistle.txt\", positive_threshold=.4, frame_threshold=3)"
   ]
  },
  {
   "cell_type": "code",
   "execution_count": 430,
   "id": "9b60e622-5fdf-45a9-9b80-7c1629c486d3",
   "metadata": {},
   "outputs": [
    {
     "name": "stdout",
     "output_type": "stream",
     "text": [
      "44/44 [==============================] - 0s 770us/step\n",
      "Thus in binary classification, the count of true negatives is \n",
      "C0,0, false negatives is C1,0, true positives is \n",
      "C1,1 and false positives is C0,1 \n"
     ]
    },
    {
     "data": {
      "text/plain": [
       "array([[1349,   20],\n",
       "       [  23,   15]])"
      ]
     },
     "execution_count": 430,
     "metadata": {},
     "output_type": "execute_result"
    }
   ],
   "source": [
    "n=\"IMG_2365\"\n",
    "nvr_seen = np.load(n + \"_swin_47_95.npy\")\n",
    "predictions3 = model.predict(nvr_seen)\n",
    "\n",
    "smooth_confusion_matrix(predictions3, n+\"_0.groundtruth.whistle.txt\", positive_threshold=.4, frame_threshold=3)"
   ]
  },
  {
   "cell_type": "code",
   "execution_count": 365,
   "id": "80219277-80b4-4c0c-ae16-8f120bcbbb84",
   "metadata": {},
   "outputs": [
    {
     "name": "stdout",
     "output_type": "stream",
     "text": [
      "64/64 [==============================] - 0s 737us/step\n"
     ]
    }
   ],
   "source": [
    "n=\"/Volumes/Stuff/youtube-dl-2/GH020192 [wj1Vc2QSdfI]\"\n",
    "\n",
    "nvr_seen = np.load(n + \"_swin_47_95.npy\")\n",
    "predictions3 = model.predict(nvr_seen)"
   ]
  },
  {
   "cell_type": "code",
   "execution_count": null,
   "id": "2f07a8c3-64f9-4f49-a2f4-e6cf39ab0036",
   "metadata": {},
   "outputs": [],
   "source": [
    "write_m3u(n+\".2\",generate_m3u(n,[i-0.5 for i in functools.reduce(smooth,positive_frames_to_secs(predictions3,.5),[])],extension=\"webm\"))\n",
    "write_positives_to_file(predictions3,.5,n+\"_0.1\")"
   ]
  },
  {
   "cell_type": "code",
   "execution_count": 321,
   "id": "e6fe22ee-8eb5-47ff-ae26-641da093cbcc",
   "metadata": {},
   "outputs": [
    {
     "name": "stdout",
     "output_type": "stream",
     "text": [
      "Tossing 654.107 10:54.106 got prior 653.757 10:53.756 0.35000000000002274 within frame_length 0.7\n",
      "Thus in binary classification, the count of true negatives is \n",
      "C0,0, false negatives is C1,0, true positives is \n",
      "C1,1 and false positives is C0,1 \n"
     ]
    },
    {
     "data": {
      "text/plain": [
       "array([[1951,   15],\n",
       "       [  41,   14]])"
      ]
     },
     "execution_count": 321,
     "metadata": {},
     "output_type": "execute_result"
    }
   ],
   "source": [
    "ngt =  n+\"_0.groundtruth.whistle.txt\"\n",
    "smooth_confusion_matrix(predictions3, ngt, positive_threshold=.5, frame_threshold=3)"
   ]
  },
  {
   "cell_type": "code",
   "execution_count": 359,
   "id": "c84a173f-0502-4395-a4e9-165db4e9cd1f",
   "metadata": {},
   "outputs": [
    {
     "name": "stdout",
     "output_type": "stream",
     "text": [
      "Tossing 180.238 3:00.237 got prior 179.888 2:59.888 0.3499999999999943 within frame_length 0.7\n",
      "Tossing 220.835 3:40.835 got prior 220.485 3:40.485 0.3499999999999943 within frame_length 0.7\n",
      "Tossing 230.985 3:50.985 got prior 230.635 3:50.634 0.35000000000002274 within frame_length 0.7\n",
      "Tossing 333.528 5:33.528 got prior 333.178 5:33.177 0.35000000000002274 within frame_length 0.7\n",
      "Thus in binary classification, the count of true negatives is \n",
      "C0,0, false negatives is C1,0, true positives is \n",
      "C1,1 and false positives is C0,1 \n"
     ]
    },
    {
     "data": {
      "text/plain": [
       "array([[1951,   15],\n",
       "       [  43,   12]])"
      ]
     },
     "execution_count": 359,
     "metadata": {},
     "output_type": "execute_result"
    }
   ],
   "source": [
    "ngt =  n+\"_0.groundtruth.whistle.txt\"\n",
    "smooth_confusion_matrix(predictions3, ngt, positive_threshold=.5, frame_threshold=3)"
   ]
  },
  {
   "cell_type": "code",
   "execution_count": 371,
   "id": "150b987d-be87-436f-a2b1-d476d40afd90",
   "metadata": {},
   "outputs": [
    {
     "name": "stdout",
     "output_type": "stream",
     "text": [
      "Thus in binary classification, the count of true negatives is \n",
      "C0,0, false negatives is C1,0, true positives is \n",
      "C1,1 and false positives is C0,1 \n"
     ]
    },
    {
     "data": {
      "text/plain": [
       "array([[1927,   39],\n",
       "       [  28,   27]])"
      ]
     },
     "execution_count": 371,
     "metadata": {},
     "output_type": "execute_result"
    }
   ],
   "source": [
    "ngt =  n+\"_0.groundtruth.whistle.txt\"\n",
    "smooth_confusion_matrix(predictions3, ngt, positive_threshold=.5, frame_threshold=2)"
   ]
  },
  {
   "cell_type": "code",
   "execution_count": 391,
   "id": "7b5ea1fa-5699-4730-b9e5-a5d697a1a774",
   "metadata": {},
   "outputs": [],
   "source": [
    "sj = np.array(smooth_join(predictions3,ground_truth=ngt, positive_threshold=.5,frame_threshold=2))\n",
    "\n",
    "# Here we write m3u with TP / FP / FN Labels\n",
    "secs = [i-0.5 for i in sj[:,0].astype(float)]\n",
    "labels =[i[:2] for i in sj[:,1]]\n",
    "\n",
    "write_m3u(n+\".3\",generate_m3u(n,extension=\"webm\",secs=secs,label=labels))\n",
    "#write_positives_to_file(predictions3,.5,n+\"_0.3\")"
   ]
  },
  {
   "cell_type": "code",
   "execution_count": 148,
   "id": "38dd960a-499c-4188-b927-49f370d64c15",
   "metadata": {},
   "outputs": [],
   "source": [
    "from itertools import takewhile\n",
    " \n",
    " \n",
    "# stripComments :: [Char] -> String -> String\n",
    "def stripComments(cs):\n",
    "    '''The lines of the input text, with any\n",
    "       comments (defined as starting with one\n",
    "       of the characters in cs) stripped out.\n",
    "    '''\n",
    "    def go(cs):\n",
    "        return lambda s: ''.join(\n",
    "            takewhile(lambda c: c not in cs, s)\n",
    "        ).strip()\n",
    "    return lambda txt: '\\n'.join(map(\n",
    "        go(cs),\n",
    "        txt.splitlines()\n",
    "    ))\n",
    "def parseMinSec(cs):\n",
    "    minute = seconds = 0\n",
    "  \n",
    "    if ':' in cs:\n",
    "        left, right = cs.split(\":\")\n",
    "        minute = float(left) * 60\n",
    "        seconds = float(right)\n",
    "    else:\n",
    "        seconds = float(cs)\n",
    "    \n",
    "    return minute + seconds\n",
    "\n",
    "\n",
    "def read(a_file):\n",
    "    with open(a_file,\"r\") as f:\n",
    "        lines = [parseMinSec(stripComments(\"#\")(line.rstrip())) for line in f ]\n",
    "        return lines\n",
    "\n",
    "def smooth(x,y):\n",
    "    if len(x) > 0:\n",
    "        prior = x[-1]\n",
    "        if y - prior < frame_length / sr:\n",
    "            print(f\"Tossing {y} {secs_to_min_secmillis(y)} got prior {prior} {secs_to_min_secmillis(prior)} {y - prior} within frame_length {frame_length / sr}\")\n",
    "            pass\n",
    "        else:\n",
    "            x.append(y)\n",
    "    else:\n",
    "        x.append(y)\n",
    "    return x\n",
    "\n",
    "\n",
    "def join(control, prediction, threshold):\n",
    "    c_l = len(control)\n",
    "    p_l = len(prediction)\n",
    "    results = [(-99, \"\")]\n",
    "    c_i = 0\n",
    "    p_i = 0\n",
    "    r_i = 0\n",
    "\n",
    "    while True:\n",
    "        left = control[c_i] if c_i < c_l else None\n",
    "        right = prediction[p_i] if p_i < p_l else None\n",
    "        last = results[-1]\n",
    "        lastval = last[0]\n",
    "\n",
    "        if left and right:\n",
    "            diff_lr = (left - right)\n",
    "            diff_l = (left - lastval)\n",
    "            diff_r = (right - lastval)\n",
    "\n",
    "            if threshold > diff_lr >= 0:\n",
    "                # TP Match\n",
    "\n",
    "                if threshold > diff_r or threshold > diff_l:\n",
    "                    results[-1] = (lastval, \"TP1\")\n",
    "                else:\n",
    "                    results.append((left, \"TP2\"))\n",
    "\n",
    "                c_i = c_i + 1\n",
    "                p_i = p_i + 1\n",
    "\n",
    "                continue\n",
    "\n",
    "            elif diff_l < diff_r:\n",
    "                c_i = c_i + 1\n",
    "                if threshold < diff_l:\n",
    "                    results.append((left, \"FN3\"))\n",
    "                    continue\n",
    "                else:\n",
    "                    if \"FP\" in last[1]:\n",
    "                        results[-1] = (lastval, \"TP4\")\n",
    "\n",
    "\n",
    "            elif diff_l > diff_r:\n",
    "                p_i = p_i + 1\n",
    "                if threshold < diff_r:\n",
    "                    results.append((right, \"FP5\"))\n",
    "                    continue\n",
    "                else:\n",
    "                    if \"FN\" in last[1]:\n",
    "                        results[-1] = (lastval, \"TP6\")\n",
    "        elif right:\n",
    "            diff_r = (right - lastval)\n",
    "            p_i = p_i + 1\n",
    "            if threshold < diff_r:\n",
    "                results.append((right, \"FP7\"))\n",
    "\n",
    "            continue\n",
    "        elif left:\n",
    "            diff_l = (left - lastval)\n",
    "            c_i = c_i + 1\n",
    "            if threshold < diff_l:\n",
    "                results.append((left, \"FN8\"))\n",
    "        else:\n",
    "            break\n",
    "\n",
    "    return results[1:]"
   ]
  },
  {
   "cell_type": "code",
   "execution_count": 133,
   "id": "3c5c31f2-fb0e-4204-b3ac-2a98bb790c1b",
   "metadata": {},
   "outputs": [
    {
     "data": {
      "text/plain": [
       "[(21.562, 'TP6'),\n",
       " (45.569, 'TP6'),\n",
       " (159.304, 'TP6'),\n",
       " (178.589, 'TP6'),\n",
       " (200.838, 'TP2'),\n",
       " (229.4, 'TP6'),\n",
       " (276.132, 'TP2'),\n",
       " (298.919, 'TP6'),\n",
       " (344.001, 'TP6'),\n",
       " (415.387, 'TP6'),\n",
       " (430.483, 'TP6'),\n",
       " (450.491, 'TP6'),\n",
       " (463.659, 'TP6'),\n",
       " (485.99, 'TP6')]"
      ]
     },
     "execution_count": 133,
     "metadata": {},
     "output_type": "execute_result"
    }
   ],
   "source": [
    "import numpy as np\n",
    "list(filter(lambda x:\"TP\" in x[1], join(np.array(read(\"IMG_2365_0.groundtruth.whistle.txt\")),np.array(read(\"IMG_2365_0.1.whistle\")),(frame_length/sr)*2)))\n"
   ]
  },
  {
   "cell_type": "code",
   "execution_count": 132,
   "id": "fc963fc9-4105-464f-9657-3d866f9ad9a4",
   "metadata": {},
   "outputs": [
    {
     "data": {
      "text/plain": [
       "[(0, (0, 'Start')),\n",
       " (2.4498, (2.4498, 'FP5')),\n",
       " (4.888199999999999, (7.338, 'FN3')),\n",
       " (14.224, (21.562, 'TP6')),\n",
       " (12.254999999999999, (33.817, 'FN3')),\n",
       " (11.752000000000002, (45.569, 'TP6')),\n",
       " (21.182000000000002, (66.751, 'FN3')),\n",
       " (10.942999999999998, (77.694, 'FP5')),\n",
       " (4.117000000000004, (81.811, 'FN3')),\n",
       " (5.562999999999988, (87.374, 'FN3')),\n",
       " (8.260999999999996, (95.63499999999999, 'FN3')),\n",
       " (2.7080000000000126, (98.343, 'FP5')),\n",
       " (8.028999999999996, (106.372, 'FN3')),\n",
       " (11.819000000000003, (118.191, 'FN3')),\n",
       " (9.900000000000006, (128.091, 'FP5')),\n",
       " (3.1499999999999773, (131.24099999999999, 'FP5')),\n",
       " (5.774000000000001, (137.015, 'FN3')),\n",
       " (16.62300000000002, (153.638, 'FN3')),\n",
       " (5.665999999999997, (159.304, 'TP6')),\n",
       " (13.782999999999987, (173.087, 'FN3')),\n",
       " (5.5020000000000095, (178.589, 'TP6')),\n",
       " (13.449999999999989, (192.039, 'FN3')),\n",
       " (5.881000000000029, (197.92000000000002, 'FN3')),\n",
       " (2.917999999999978, (200.838, 'TP2')),\n",
       " (14.388000000000005, (215.226, 'FN3')),\n",
       " (14.174000000000007, (229.4, 'TP6')),\n",
       " (8.584000000000003, (237.984, 'FP5')),\n",
       " (3.853999999999985, (241.838, 'FN3')),\n",
       " (34.29400000000001, (276.132, 'TP2')),\n",
       " (1.4209999999999923, (277.553, 'FN3')),\n",
       " (14.033000000000015, (291.586, 'FN3')),\n",
       " (7.33299999999997, (298.919, 'TP6')),\n",
       " (9.061000000000035, (307.98, 'FP5')),\n",
       " (2.055999999999983, (310.036, 'FN3')),\n",
       " (12.992999999999995, (323.029, 'FP5')),\n",
       " (15.048999999999978, (338.078, 'FP5')),\n",
       " (5.923000000000002, (344.001, 'TP6')),\n",
       " (8.03000000000003, (352.031, 'FN3')),\n",
       " (10.069999999999993, (362.101, 'FN3')),\n",
       " (7.824999999999989, (369.926, 'FP5')),\n",
       " (14.624000000000024, (384.55, 'FN3')),\n",
       " (4.615000000000009, (389.165, 'FN3')),\n",
       " (2.459000000000003, (391.624, 'FP5')),\n",
       " (7.349999999999966, (398.974, 'FP5')),\n",
       " (4.670999999999992, (403.645, 'FN3')),\n",
       " (4.77800000000002, (408.423, 'FP5')),\n",
       " (3.8500000000000227, (412.273, 'FP5')),\n",
       " (3.113999999999976, (415.387, 'TP6')),\n",
       " (4.256000000000029, (419.64300000000003, 'FN3')),\n",
       " (10.839999999999975, (430.483, 'TP6')),\n",
       " (20.00799999999998, (450.491, 'TP6')),\n",
       " (13.168000000000006, (463.659, 'TP6')),\n",
       " (22.331000000000017, (485.99, 'TP6')),\n",
       " (4.947999999999979, (490.938, 'FN8'))]"
      ]
     },
     "execution_count": 132,
     "metadata": {},
     "output_type": "execute_result"
    }
   ],
   "source": [
    "list(filter(lambda x:  True or x[0] < (frame_length/sr), functools.reduce(\n",
    "    lambda x,y: x + [( y[0]- x[-1][1][0],y)] ,join(np.array(\n",
    "        read(\"IMG_2365_0.groundtruth.whistle.txt\")),np.array(read(\"IMG_2365_0.1.whistle\")),(frame_length/sr)*2),[(0,(0,\"Start\"))])))"
   ]
  },
  {
   "cell_type": "code",
   "execution_count": 242,
   "id": "3bf4a944-fcfa-464a-8164-3e3ebc8d9d88",
   "metadata": {},
   "outputs": [
    {
     "name": "stdout",
     "output_type": "stream",
     "text": [
      "Tossing 21.698 21.698 got prior 20.998 20.998 0.6999999999999993 within frame_length 0.7\n",
      "Tossing 368.526 6:08.526 got prior 367.826 6:07.826 0.6999999999999886 within frame_length 0.7\n",
      "Tossing 464.069 7:44.069 got prior 463.719 7:43.718 0.35000000000002274 within frame_length 0.7\n"
     ]
    },
    {
     "data": {
      "text/plain": [
       "[(0, (0, 'Start')),\n",
       " (7.338, (7.338, 'TP2')),\n",
       " (14.224, (21.562, 'TP2')),\n",
       " (12.254999999999999, (33.817, 'TP6')),\n",
       " (11.752000000000002, (45.569, 'FN3')),\n",
       " (11.126999999999995, (56.696, 'FP5')),\n",
       " (10.055000000000007, (66.751, 'FN3')),\n",
       " (15.060000000000002, (81.811, 'TP6')),\n",
       " (5.562999999999988, (87.374, 'FN3')),\n",
       " (3.969999999999999, (91.344, 'FP5')),\n",
       " (4.290999999999997, (95.63499999999999, 'TP6')),\n",
       " (10.737000000000009, (106.372, 'FN3')),\n",
       " (11.819000000000003, (118.191, 'FN3')),\n",
       " (18.823999999999984, (137.015, 'FN3')),\n",
       " (16.62300000000002, (153.638, 'FN3')),\n",
       " (5.665999999999997, (159.304, 'FN3')),\n",
       " (13.782999999999987, (173.087, 'FN3')),\n",
       " (5.5020000000000095, (178.589, 'FN3')),\n",
       " (13.449999999999989, (192.039, 'TP2')),\n",
       " (5.881000000000029, (197.92000000000002, 'FN3')),\n",
       " (6.815999999999974, (204.736, 'FP5')),\n",
       " (10.490000000000009, (215.226, 'TP6')),\n",
       " (14.174000000000007, (229.4, 'TP2')),\n",
       " (5.783999999999992, (235.184, 'FP5')),\n",
       " (6.653999999999996, (241.838, 'FN3')),\n",
       " (6.9950000000000045, (248.833, 'FP5')),\n",
       " (27.299000000000007, (276.132, 'FN3')),\n",
       " (10.149000000000001, (286.281, 'TP1')),\n",
       " (12.637999999999977, (298.919, 'FN3')),\n",
       " (11.117000000000019, (310.036, 'TP2')),\n",
       " (12.992999999999995, (323.029, 'FP5')),\n",
       " (5.249000000000024, (328.278, 'FP5')),\n",
       " (9.099999999999966, (337.378, 'FP5')),\n",
       " (6.6229999999999905, (344.001, 'TP6')),\n",
       " (8.03000000000003, (352.031, 'TP2')),\n",
       " (10.069999999999993, (362.101, 'TP6')),\n",
       " (5.725000000000023, (367.826, 'FP5')),\n",
       " (7.3489999999999895, (375.175, 'FP5')),\n",
       " (9.375, (384.55, 'TP2')),\n",
       " (4.615000000000009, (389.165, 'FN3')),\n",
       " (8.058999999999969, (397.224, 'FP5')),\n",
       " (6.420999999999992, (403.645, 'FN3')),\n",
       " (4.77800000000002, (408.423, 'FP5')),\n",
       " (6.963999999999999, (415.387, 'TP1')),\n",
       " (15.096000000000004, (430.483, 'TP6')),\n",
       " (20.00799999999998, (450.491, 'TP6')),\n",
       " (13.168000000000006, (463.659, 'TP6')),\n",
       " (22.331000000000017, (485.99, 'TP6')),\n",
       " (4.947999999999979, (490.938, 'FN8'))]"
      ]
     },
     "execution_count": 242,
     "metadata": {},
     "output_type": "execute_result"
    }
   ],
   "source": [
    "list(filter(lambda x:  True or x[0] < (frame_length/sr), functools.reduce(\n",
    "    lambda x,y: x + [( y[0]- x[-1][1][0],y)] ,join(np.array(\n",
    "        read(\"IMG_2365_0.groundtruth.whistle.txt\")),np.array([i for i in functools.reduce(smooth,positive_frames_to_secs(predictions3,.25),[])]),(frame_length/sr)*5),[(0,(0,\"Start\"))])))"
   ]
  },
  {
   "cell_type": "code",
   "execution_count": 247,
   "id": "38c804d3-4945-41d1-a749-b2e48af6d2a3",
   "metadata": {},
   "outputs": [
    {
     "name": "stdout",
     "output_type": "stream",
     "text": [
      "Tossing 156.439 2:36.438 got prior 156.089 2:36.088 0.3499999999999943 within frame_length 0.7\n",
      "Tossing 158.189 2:38.188 got prior 157.839 2:37.838 0.3499999999999943 within frame_length 0.7\n",
      "Tossing 291.531 4:51.531 got prior 291.181 4:51.180 0.35000000000002274 within frame_length 0.7\n",
      "Tossing 347.527 5:47.526 got prior 346.827 5:46.826 0.6999999999999886 within frame_length 0.7\n"
     ]
    }
   ],
   "source": [
    "smooth_join = join(np.array(\n",
    "        read(\"5u5a9273.groundtruth.whistle.txt\")),np.array([i for i in functools.reduce(smooth,positive_frames_to_secs(predictions,.5),[])]),(frame_length/sr)*3)"
   ]
  },
  {
   "cell_type": "code",
   "execution_count": 217,
   "id": "91fe62f1-a160-4dc4-9e09-4faba0392d36",
   "metadata": {},
   "outputs": [
    {
     "data": {
      "text/plain": [
       "[8.285714285714286,\n",
       " 32.28571428571429,\n",
       " 86.8,\n",
       " 168.99714285714285,\n",
       " 189.97142857142856,\n",
       " 235.25714285714287,\n",
       " 265.7142857142857,\n",
       " 292.80857142857144,\n",
       " 319.3085714285715,\n",
       " 347.86857142857144,\n",
       " 380.0,\n",
       " 423.92571428571426,\n",
       " 500.94,\n",
       " 557.98,\n",
       " 619.0857142857143,\n",
       " 645.8657142857144,\n",
       " 659.9685714285714,\n",
       " 696.9114285714286,\n",
       " 779.1142857142858,\n",
       " 821.0628571428572,\n",
       " 853.8314285714285,\n",
       " 880.3742857142856,\n",
       " 901.2714285714286,\n",
       " 929.8514285714285,\n",
       " 956.5714285714286,\n",
       " 1018.0514285714285,\n",
       " 1036.8742857142856,\n",
       " 1059.1057142857144]"
      ]
     },
     "execution_count": 217,
     "metadata": {},
     "output_type": "execute_result"
    }
   ],
   "source": [
    "gt = [sr*i/(frame_length/2) for i in np.array(\n",
    "        read(\"5u5a9273.groundtruth.whistle.txt\"),dtype=float)]\n",
    "gt"
   ]
  },
  {
   "cell_type": "code",
   "execution_count": 215,
   "id": "944fa6df-8aaf-4673-b0dc-8bb0c54350ec",
   "metadata": {},
   "outputs": [
    {
     "data": {
      "text/plain": [
       "dtype('float64')"
      ]
     },
     "execution_count": 215,
     "metadata": {},
     "output_type": "execute_result"
    }
   ],
   "source": [
    "gt2.dtype\n",
    "np.around(gt2).dtype\n",
    "np.empty_like(gt,dtype=int)\n",
    "#np.round(gt,out=np.empty_like(gt,dtype=int)).dtype\n",
    "gt.dtype"
   ]
  },
  {
   "cell_type": "code",
   "execution_count": 220,
   "id": "16cf4da4-f404-4abc-a4b4-b8baa31eb08d",
   "metadata": {},
   "outputs": [],
   "source": [
    "gt2 = np.zeros(dtype=int,shape=(len(predictions)))\n",
    "np.put(gt2, np.round(gt).astype(int), v=1.)\n",
    "\n"
   ]
  },
  {
   "cell_type": "code",
   "execution_count": 229,
   "id": "259dceea-678c-4367-87fc-c59d4f15f561",
   "metadata": {},
   "outputs": [
    {
     "data": {
      "text/plain": [
       "array([[993,  43],\n",
       "       [ 27,   1]])"
      ]
     },
     "execution_count": 229,
     "metadata": {},
     "output_type": "execute_result"
    }
   ],
   "source": [
    "from sklearn.metrics import confusion_matrix\n",
    "p = np.greater(predictions,.9)\n",
    "confusion_matrix(gt2, p)"
   ]
  },
  {
   "cell_type": "code",
   "execution_count": 264,
   "id": "e4363c8b-96e3-47a2-bb27-2e7a3aa0a74c",
   "metadata": {},
   "outputs": [],
   "source": [
    "def smooth_join(predictions,ground_truth=\"5u5a9273.groundtruth.whistle.txt\", positive_threshold=.5,frame_threshold=3):\n",
    "    return join(np.array(\n",
    "        read(ground_truth)),np.array([i for i in functools.reduce(smooth,positive_frames_to_secs(predictions,positive_threshold),[])]),(frame_length/sr)*frame_threshold)\n",
    "\n",
    "def smooth_confusion_matrix_(predictions, smooth_join):\n",
    "    gt_smooth = list(map(lambda x: x[0],filter(lambda x:\"TP\" in x[1] or \"FN\" in x[1],smooth_join)))\n",
    "    pred_smooth = list(map(lambda x: x[0],filter(lambda x:\"TP\" in x[1] or \"FP\" in x[1],smooth_join)))\n",
    "\n",
    "    gt2 = np.zeros(dtype=int,shape=(len(predictions)))\n",
    "    pred2 = np.zeros(dtype=int,shape=(len(predictions)))\n",
    "\n",
    "    np.put(gt2, np.round(gt_smooth).astype(int), v=1.)\n",
    "    np.put(pred2, np.round(pred_smooth).astype(int), v=1.)\n",
    "\n",
    "\n",
    "    from sklearn.metrics import confusion_matrix\n",
    "    print(\"\"\"Thus in binary classification, the count of true negatives is \n",
    "C0,0, false negatives is C1,0, true positives is \n",
    "C1,1 and false positives is C0,1 \"\"\")\n",
    "\n",
    "    return confusion_matrix(gt2, pred2)\n",
    "\n",
    "\n",
    "def smooth_confusion_matrix(predictions, ground_truth, positive_threshold=.5,frame_threshold=3):\n",
    "    return smooth_confusion_matrix_(predictions, smooth_join(predictions, ground_truth, positive_threshold,frame_threshold))"
   ]
  },
  {
   "cell_type": "code",
   "execution_count": 265,
   "id": "fa1685d7-8e8e-48a3-ad9a-72f8e20b00e7",
   "metadata": {},
   "outputs": [
    {
     "name": "stdout",
     "output_type": "stream",
     "text": [
      "Tossing 156.439 2:36.438 got prior 156.089 2:36.088 0.3499999999999943 within frame_length 0.7\n",
      "Tossing 158.189 2:38.188 got prior 157.839 2:37.838 0.3499999999999943 within frame_length 0.7\n",
      "Tossing 291.531 4:51.531 got prior 291.181 4:51.180 0.35000000000002274 within frame_length 0.7\n",
      "Tossing 347.527 5:47.526 got prior 346.827 5:46.826 0.6999999999999886 within frame_length 0.7\n",
      "Thus in binary classification, the count of true negatives is \n",
      "C0,0, false negatives is C1,0, true positives is \n",
      "C1,1 and false positives is C0,1 \n"
     ]
    },
    {
     "data": {
      "text/plain": [
       "array([[1008,   28],\n",
       "       [  14,   14]])"
      ]
     },
     "execution_count": 265,
     "metadata": {},
     "output_type": "execute_result"
    }
   ],
   "source": [
    "smooth_confusion_matrix(predictions, \"5u5a9273.groundtruth.whistle.txt\")"
   ]
  },
  {
   "cell_type": "code",
   "execution_count": 446,
   "id": "04926975-0772-463c-a22d-8a783295148a",
   "metadata": {},
   "outputs": [],
   "source": [
    "import keras \n",
    "model2  = keras.models.load_model('model_ffn_202272511446')"
   ]
  },
  {
   "cell_type": "markdown",
   "id": "72c9f874-6867-47a6-9492-cdc3ccd000a3",
   "metadata": {},
   "source": [
    "model_2"
   ]
  },
  {
   "cell_type": "code",
   "execution_count": 447,
   "id": "114f3cd4-146f-4f2f-be86-2df15d34ac96",
   "metadata": {},
   "outputs": [
    {
     "data": {
      "text/plain": [
       "<keras.engine.sequential.Sequential at 0x1570b9a00>"
      ]
     },
     "execution_count": 447,
     "metadata": {},
     "output_type": "execute_result"
    }
   ],
   "source": [
    "model2"
   ]
  },
  {
   "cell_type": "code",
   "execution_count": null,
   "id": "1de5aafc-32e1-4e07-8bc4-770f1318a49d",
   "metadata": {},
   "outputs": [],
   "source": []
  }
 ],
 "metadata": {
  "kernelspec": {
   "display_name": "Python 3 (ipykernel)",
   "language": "python",
   "name": "python3"
  },
  "language_info": {
   "codemirror_mode": {
    "name": "ipython",
    "version": 3
   },
   "file_extension": ".py",
   "mimetype": "text/x-python",
   "name": "python",
   "nbconvert_exporter": "python",
   "pygments_lexer": "ipython3",
   "version": "3.9.13"
  }
 },
 "nbformat": 4,
 "nbformat_minor": 5
}
